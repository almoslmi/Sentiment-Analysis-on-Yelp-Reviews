{
 "cells": [
  {
   "cell_type": "code",
   "execution_count": 1,
   "metadata": {
    "collapsed": true
   },
   "outputs": [],
   "source": [
    "from pyspark import SparkContext\n",
    "from pyspark.sql.types import *\n",
    "sc = SparkContext.getOrCreate()\n",
    "sqlContext = SQLContext(sc)"
   ]
  },
  {
   "cell_type": "code",
   "execution_count": 2,
   "metadata": {
    "collapsed": true
   },
   "outputs": [],
   "source": [
    "from pyspark.ml.feature import HashingTF, IDF, Tokenizer\n",
    "from pyspark.ml.feature import NGram\n",
    "from pyspark.sql.functions import udf\n",
    "from pyspark.ml.feature import StopWordsRemover\n",
    "\n",
    "from pyspark.ml.classification import LogisticRegression\n",
    "from pyspark.ml.classification import NaiveBayes\n",
    "from pyspark.ml.classification import RandomForestClassifier\n",
    "from pyspark.ml.classification import MultilayerPerceptronClassifier\n",
    "from pyspark.ml.evaluation import BinaryClassificationEvaluator\n",
    "from pyspark.ml.evaluation import MulticlassClassificationEvaluator\n",
    "\n",
    "from pyspark.ml import Pipeline, PipelineModel"
   ]
  },
  {
   "cell_type": "code",
   "execution_count": 3,
   "metadata": {
    "collapsed": true
   },
   "outputs": [],
   "source": [
    "review_raw = spark.read.json(\"review.json\")"
   ]
  },
  {
   "cell_type": "markdown",
   "metadata": {},
   "source": [
    "### Check the distribution of rating stars"
   ]
  },
  {
   "cell_type": "code",
   "execution_count": 5,
   "metadata": {},
   "outputs": [
    {
     "name": "stdout",
     "output_type": "stream",
     "text": [
      "+-----+-------+\n",
      "|stars|  count|\n",
      "+-----+-------+\n",
      "|    5|1988003|\n",
      "|    1| 639849|\n",
      "|    3| 570819|\n",
      "|    2| 402396|\n",
      "|    4|1135830|\n",
      "+-----+-------+\n",
      "\n",
      "None\n"
     ]
    }
   ],
   "source": [
    "print review_raw.groupBy(review_raw[\"stars\"]).count().show()"
   ]
  },
  {
   "cell_type": "code",
   "execution_count": 7,
   "metadata": {
    "collapsed": true
   },
   "outputs": [],
   "source": [
    "# Exclude neutral reviews:\n",
    "def pos_neg(star):\n",
    "    if star <3:\n",
    "        return 0 #negative\n",
    "    elif star >3 :\n",
    "        return 1 #positive\n",
    "    else:\n",
    "        return 2 #neutral\n",
    "    \n",
    "star_to_senti = udf(lambda x:pos_neg(x))\n",
    "train_test_DF = review_raw.select('text',star_to_senti('stars').alias('label')).filter(\"label != 2\")"
   ]
  },
  {
   "cell_type": "markdown",
   "metadata": {},
   "source": [
    "### Create TFIDF Feature"
   ]
  },
  {
   "cell_type": "code",
   "execution_count": 37,
   "metadata": {},
   "outputs": [
    {
     "ename": "NameError",
     "evalue": "name 'train_test_DF' is not defined",
     "output_type": "error",
     "traceback": [
      "\u001b[0;31m---------------------------------------------------------------------------\u001b[0m",
      "\u001b[0;31mNameError\u001b[0m                                 Traceback (most recent call last)",
      "\u001b[0;32m<ipython-input-37-69f12bb86edd>\u001b[0m in \u001b[0;36m<module>\u001b[0;34m()\u001b[0m\n\u001b[1;32m     17\u001b[0m \u001b[0;34m\u001b[0m\u001b[0m\n\u001b[1;32m     18\u001b[0m \u001b[0mudf_num_punct\u001b[0m \u001b[0;34m=\u001b[0m \u001b[0mudf\u001b[0m\u001b[0;34m(\u001b[0m\u001b[0;32mlambda\u001b[0m \u001b[0mx\u001b[0m\u001b[0;34m:\u001b[0m\u001b[0mremove_num_punct\u001b[0m\u001b[0;34m(\u001b[0m\u001b[0mx\u001b[0m\u001b[0;34m)\u001b[0m\u001b[0;34m)\u001b[0m\u001b[0;34m\u001b[0m\u001b[0m\n\u001b[0;32m---> 19\u001b[0;31m \u001b[0mreview_rmsw\u001b[0m \u001b[0;34m=\u001b[0m \u001b[0mtrain_test_DF\u001b[0m\u001b[0;34m.\u001b[0m\u001b[0mselect\u001b[0m\u001b[0;34m(\u001b[0m\u001b[0mudf_num_punct\u001b[0m\u001b[0;34m(\u001b[0m\u001b[0;34m'text'\u001b[0m\u001b[0;34m)\u001b[0m\u001b[0;34m.\u001b[0m\u001b[0malias\u001b[0m\u001b[0;34m(\u001b[0m\u001b[0;34m'text'\u001b[0m\u001b[0;34m)\u001b[0m\u001b[0;34m,\u001b[0m \u001b[0;34m'label'\u001b[0m\u001b[0;34m)\u001b[0m\u001b[0;34m\u001b[0m\u001b[0m\n\u001b[0m",
      "\u001b[0;31mNameError\u001b[0m: name 'train_test_DF' is not defined"
     ]
    }
   ],
   "source": [
    "#remove punctuation\n",
    "import re\n",
    "import string\n",
    "\n",
    "def remove_num_punct(text):\n",
    "\n",
    "    my_string = text.replace(\"-\", \" \")\n",
    "    regex = re.compile('[' + re.escape(string.punctuation) + '0-9\\\\r\\\\t\\\\n]')\n",
    "    nopunct = regex.sub(\" \", my_string)  # delete stuff but leave at least a space to avoid clumping together\n",
    "\n",
    "    nopunct = nopunct.split()\n",
    "    #nopunct = [stemmer.stem(w).strip(\" \") for w in nopunct] #remove stop word and normalize word using stemmer.\n",
    "    nopunct = [w.strip() for w in nopunct]\n",
    "    nopunct = ' '.join(nopunct)\n",
    "    \n",
    "    return nopunct\n",
    "\n",
    "udf_num_punct = udf(lambda x:remove_num_punct(x))\n",
    "review_rmsw = train_test_DF.select(udf_num_punct('text').alias('text'), 'label')"
   ]
  },
  {
   "cell_type": "code",
   "execution_count": 9,
   "metadata": {
    "collapsed": true
   },
   "outputs": [],
   "source": [
    "### setNumFeatures\n",
    "n_features = 100"
   ]
  },
  {
   "cell_type": "markdown",
   "metadata": {},
   "source": [
    "### Get a subset of data"
   ]
  },
  {
   "cell_type": "code",
   "execution_count": 11,
   "metadata": {
    "collapsed": true
   },
   "outputs": [],
   "source": [
    "try_DF = review_rmsw.sample(False, 0.05, 1)"
   ]
  },
  {
   "cell_type": "markdown",
   "metadata": {},
   "source": [
    "### Split train and test"
   ]
  },
  {
   "cell_type": "code",
   "execution_count": 16,
   "metadata": {},
   "outputs": [
    {
     "data": {
      "text/plain": [
       "DataFrame[text: string, label: string]"
      ]
     },
     "execution_count": 16,
     "metadata": {},
     "output_type": "execute_result"
    }
   ],
   "source": [
    "train_set.unpersist()\n",
    "test_set.unpersist()"
   ]
  },
  {
   "cell_type": "code",
   "execution_count": 17,
   "metadata": {},
   "outputs": [
    {
     "data": {
      "text/plain": [
       "DataFrame[text: string, label: double]"
      ]
     },
     "execution_count": 17,
     "metadata": {},
     "output_type": "execute_result"
    }
   ],
   "source": [
    "train_set, test_set= try_DF.randomSplit([0.8, 0.2])\n",
    "train_set = train_set.withColumn(\"label\", train_set[\"label\"].cast(DoubleType()))\n",
    "test_set = test_set.withColumn(\"label\", test_set[\"label\"].cast(DoubleType()))\n",
    "train_set.cache()\n",
    "test_set.cache()"
   ]
  },
  {
   "cell_type": "markdown",
   "metadata": {},
   "source": [
    "### Define evaluation metrics"
   ]
  },
  {
   "cell_type": "code",
   "execution_count": 14,
   "metadata": {
    "collapsed": true
   },
   "outputs": [],
   "source": [
    "# compute accuracy on the test set \n",
    "def evaluate_metric(predictions):\n",
    "    \n",
    "    evaluator = BinaryClassificationEvaluator().setMetricName(\"areaUnderROC\")\n",
    "    AUC = evaluator.evaluate(predictions)\n",
    "    print(\"Area under ROC curve = %0.4f\" %(AUC))\n",
    "    \n",
    "    evaluator = MulticlassClassificationEvaluator(labelCol=\"label\", predictionCol=\"prediction\",metricName=\"f1\")\n",
    "    f1 = evaluator.evaluate(predictions)\n",
    "    print(\"F1_score = %0.4f\" %(f1))\n",
    "\n",
    "    evaluator = MulticlassClassificationEvaluator(labelCol=\"label\", predictionCol=\"prediction\", metricName=\"accuracy\")\n",
    "    accuracy = evaluator.evaluate(predictions)\n",
    "    print(\"Accuracy = %0.4f\" %(accuracy))"
   ]
  },
  {
   "cell_type": "markdown",
   "metadata": {},
   "source": [
    "### Model 1: Logistic Regression"
   ]
  },
  {
   "cell_type": "code",
   "execution_count": 18,
   "metadata": {
    "collapsed": true
   },
   "outputs": [],
   "source": [
    "tokenizer = Tokenizer(inputCol=\"text\", outputCol=\"words\")\n",
    "remover = StopWordsRemover(inputCol=\"words\", outputCol=\"filtered\", caseSensitive=False)\n",
    "hashingTF = HashingTF(inputCol=\"filtered\", outputCol=\"rawFeatures\")\n",
    "idf = IDF(inputCol=\"rawFeatures\", outputCol=\"features\")\n",
    "lr = LogisticRegression(maxIter=100, regParam=0.01, elasticNetParam=0.8)\n",
    "pipeline_lr=Pipeline(stages=[tokenizer,remover,hashingTF,idf, lr])"
   ]
  },
  {
   "cell_type": "code",
   "execution_count": 29,
   "metadata": {},
   "outputs": [
    {
     "name": "stdout",
     "output_type": "stream",
     "text": [
      "CPU times: user 195 ms, sys: 85 ms, total: 280 ms\n",
      "Wall time: 36.4 s\n"
     ]
    }
   ],
   "source": [
    "%%time\n",
    "logreg_model=pipeline_lr.fit(train_set)\n",
    "log_pred = logreg_model.transform(test_set)"
   ]
  },
  {
   "cell_type": "code",
   "execution_count": 23,
   "metadata": {
    "scrolled": true
   },
   "outputs": [
    {
     "name": "stdout",
     "output_type": "stream",
     "text": [
      "Area under ROC curve = 0.9603\n",
      "F1_score = 0.8929\n",
      "Accuracy = 0.8994\n"
     ]
    }
   ],
   "source": [
    "evaluate_metric(log_pred)"
   ]
  },
  {
   "cell_type": "code",
   "execution_count": 31,
   "metadata": {},
   "outputs": [
    {
     "name": "stdout",
     "output_type": "stream",
     "text": [
      "+-----+----------+-----+\n",
      "|label|prediction|count|\n",
      "+-----+----------+-----+\n",
      "|  1.0|       1.0|30848|\n",
      "|  0.0|       1.0| 3685|\n",
      "|  1.0|       0.0|  523|\n",
      "|  0.0|       0.0| 6775|\n",
      "+-----+----------+-----+\n",
      "\n"
     ]
    }
   ],
   "source": [
    "log_pred.groupBy(log_pred[\"label\"], log_pred[\"prediction\"]).count().show()"
   ]
  },
  {
   "cell_type": "markdown",
   "metadata": {},
   "source": [
    "### Model 2: Unigram Naive Bayes"
   ]
  },
  {
   "cell_type": "code",
   "execution_count": 25,
   "metadata": {
    "collapsed": true
   },
   "outputs": [],
   "source": [
    "tokenizer = Tokenizer(inputCol=\"text\", outputCol=\"words\")\n",
    "remover = StopWordsRemover(inputCol=\"words\", outputCol=\"filtered\", caseSensitive=False)\n",
    "hashingTF = HashingTF(inputCol=\"filtered\", outputCol=\"rawFeatures\")\n",
    "idf = IDF(inputCol=\"rawFeatures\", outputCol=\"features\")\n",
    "nb = NaiveBayes(smoothing = 1.0, modelType = \"multinomial\")\n",
    "pipeline_nb=Pipeline(stages=[tokenizer,remover,hashingTF,idf, nb])"
   ]
  },
  {
   "cell_type": "code",
   "execution_count": 26,
   "metadata": {},
   "outputs": [
    {
     "name": "stdout",
     "output_type": "stream",
     "text": [
      "CPU times: user 42.6 ms, sys: 11.1 ms, total: 53.7 ms\n",
      "Wall time: 7.8 s\n"
     ]
    }
   ],
   "source": [
    "%%time\n",
    "nb_model=pipeline_nb.fit(train_set)\n",
    "nb_pred = nb_model.transform(test_set)"
   ]
  },
  {
   "cell_type": "code",
   "execution_count": 28,
   "metadata": {},
   "outputs": [
    {
     "name": "stdout",
     "output_type": "stream",
     "text": [
      "Area under ROC curve = 0.6110\n",
      "F1_score = 0.8799\n",
      "Accuracy = 0.8773\n"
     ]
    }
   ],
   "source": [
    "evaluate_metric(nb_pred)"
   ]
  },
  {
   "cell_type": "code",
   "execution_count": 33,
   "metadata": {},
   "outputs": [
    {
     "name": "stdout",
     "output_type": "stream",
     "text": [
      "+-----+----------+-----+\n",
      "|label|prediction|count|\n",
      "+-----+----------+-----+\n",
      "|  1.0|       1.0|28060|\n",
      "|  0.0|       1.0| 1820|\n",
      "|  1.0|       0.0| 3311|\n",
      "|  0.0|       0.0| 8640|\n",
      "+-----+----------+-----+\n",
      "\n"
     ]
    }
   ],
   "source": [
    "nb_pred.groupBy(nb_pred[\"label\"], nb_pred[\"prediction\"]).count().show()"
   ]
  },
  {
   "cell_type": "code",
   "execution_count": 36,
   "metadata": {},
   "outputs": [
    {
     "name": "stdout",
     "output_type": "stream",
     "text": [
      "+------------------------------------------+----------+\n",
      "|probability                               |prediction|\n",
      "+------------------------------------------+----------+\n",
      "|[1.0,2.233587851788781E-226]              |0.0       |\n",
      "|[0.9992616979015009,7.38302098499225E-4]  |0.0       |\n",
      "|[9.842443476377716E-29,1.0]               |1.0       |\n",
      "|[2.499656474851975E-32,1.0]               |1.0       |\n",
      "|[0.9999932253023083,6.77469769168618E-6]  |0.0       |\n",
      "|[1.8852443832876588E-31,1.0]              |1.0       |\n",
      "|[6.897843818067181E-31,1.0]               |1.0       |\n",
      "|[4.744868603502499E-62,1.0]               |1.0       |\n",
      "|[0.9999999999912947,8.70520844385707E-12] |0.0       |\n",
      "|[1.0,1.2309625281567158E-63]              |0.0       |\n",
      "|[2.719911853042468E-10,0.9999999997280089]|1.0       |\n",
      "|[1.8574049202457505E-33,1.0]              |1.0       |\n",
      "|[9.878116655662891E-179,1.0]              |1.0       |\n",
      "|[0.9999999985943355,1.405664575753711E-9] |0.0       |\n",
      "|[8.09819074332604E-65,1.0]                |1.0       |\n",
      "|[4.1559451075580635E-68,1.0]              |1.0       |\n",
      "|[3.8424887050817227E-25,1.0]              |1.0       |\n",
      "|[2.5384993043140004E-36,1.0]              |1.0       |\n",
      "|[2.3839438634043223E-158,1.0]             |1.0       |\n",
      "|[1.925682833281911E-67,1.0]               |1.0       |\n",
      "+------------------------------------------+----------+\n",
      "only showing top 20 rows\n",
      "\n"
     ]
    }
   ],
   "source": [
    "nb_pred.select('probability','prediction').show(truncate=False)"
   ]
  },
  {
   "cell_type": "code",
   "execution_count": 37,
   "metadata": {},
   "outputs": [
    {
     "name": "stdout",
     "output_type": "stream",
     "text": [
      "+------------------------------------------+----------+\n",
      "|probability                               |prediction|\n",
      "+------------------------------------------+----------+\n",
      "|[0.7344657012508554,0.2655342987491446]   |0.0       |\n",
      "|[0.5177869283272799,0.48221307167272015]  |0.0       |\n",
      "|[0.09716840083293621,0.9028315991670638]  |1.0       |\n",
      "|[0.07071973741654106,0.929280262583459]   |1.0       |\n",
      "|[0.0035489188778829142,0.9964510811221171]|1.0       |\n",
      "|[0.16878815939278374,0.8312118406072163]  |1.0       |\n",
      "|[0.3337479990318102,0.6662520009681898]   |1.0       |\n",
      "|[0.040811858785711676,0.9591881412142883] |1.0       |\n",
      "|[0.0689082188648282,0.9310917811351719]   |1.0       |\n",
      "|[0.8838626807099722,0.11613731929002782]  |0.0       |\n",
      "|[0.01002157352963042,0.9899784264703695]  |1.0       |\n",
      "|[0.0018733713046665467,0.9981266286953334]|1.0       |\n",
      "|[4.6633692869421005E-4,0.9995336630713059]|1.0       |\n",
      "|[0.27315307894836377,0.7268469210516362]  |1.0       |\n",
      "|[0.08761666275441887,0.9123833372455811]  |1.0       |\n",
      "|[0.4481425268422956,0.5518574731577044]   |1.0       |\n",
      "|[0.01802233694469723,0.9819776630553028]  |1.0       |\n",
      "|[0.027340432944605274,0.9726595670553947] |1.0       |\n",
      "|[0.06085015083562061,0.9391498491643794]  |1.0       |\n",
      "|[0.09783810143261434,0.9021618985673857]  |1.0       |\n",
      "+------------------------------------------+----------+\n",
      "only showing top 20 rows\n",
      "\n"
     ]
    }
   ],
   "source": [
    "log_pred.select('probability','prediction').show(truncate=False)"
   ]
  },
  {
   "cell_type": "code",
   "execution_count": null,
   "metadata": {
    "collapsed": true
   },
   "outputs": [],
   "source": []
  },
  {
   "cell_type": "code",
   "execution_count": null,
   "metadata": {
    "collapsed": true
   },
   "outputs": [],
   "source": []
  },
  {
   "cell_type": "code",
   "execution_count": null,
   "metadata": {
    "collapsed": true
   },
   "outputs": [],
   "source": []
  },
  {
   "cell_type": "code",
   "execution_count": null,
   "metadata": {
    "collapsed": true
   },
   "outputs": [],
   "source": []
  },
  {
   "cell_type": "markdown",
   "metadata": {},
   "source": [
    "## -------------------------------\n",
    "## Spark Query - \n",
    "#### Looking at a single business - what words are most commonly used to describe this restuarant?"
   ]
  },
  {
   "cell_type": "code",
   "execution_count": 3,
   "metadata": {
    "collapsed": true
   },
   "outputs": [],
   "source": [
    "biz_raw = spark.read.json(\"business.json\")\n",
    "review_raw = spark.read.json(\"review.json\")"
   ]
  },
  {
   "cell_type": "code",
   "execution_count": 4,
   "metadata": {
    "scrolled": true
   },
   "outputs": [
    {
     "name": "stdout",
     "output_type": "stream",
     "text": [
      "+--------------------------------+------------+---------+\n",
      "|name                            |review_count|city     |\n",
      "+--------------------------------+------------+---------+\n",
      "|Mon Ami Gabi                    |6979        |Las Vegas|\n",
      "|Bacchanal Buffet                |6417        |Las Vegas|\n",
      "|Wicked Spoon                    |5632        |Las Vegas|\n",
      "|Gordon Ramsay BurGR             |5429        |Las Vegas|\n",
      "|Earl of Sandwich                |4789        |Las Vegas|\n",
      "|Hash House A Go Go              |4371        |Las Vegas|\n",
      "|Serendipity 3                   |3913        |Las Vegas|\n",
      "|The Buffet                      |3873        |Las Vegas|\n",
      "|Lotus of Siam                   |3838        |Las Vegas|\n",
      "|The Buffet at Bellagio          |3700        |Las Vegas|\n",
      "|ARIA Resort & Casino            |3634        |Las Vegas|\n",
      "|The Cosmopolitan of Las Vegas   |3621        |Las Vegas|\n",
      "|Secret Pizza                    |3542        |Las Vegas|\n",
      "|Bouchon at the Venezia Tower    |3439        |Las Vegas|\n",
      "|Luxor Hotel and Casino Las Vegas|3429        |Las Vegas|\n",
      "|MGM Grand Hotel                 |3285        |Las Vegas|\n",
      "|Gangnam Asian BBQ Dining        |3180        |Las Vegas|\n",
      "|McCarran International Airport  |3090        |Las Vegas|\n",
      "|Hash House A Go Go              |2963        |Las Vegas|\n",
      "|The Venetian Las Vegas          |2951        |Las Vegas|\n",
      "+--------------------------------+------------+---------+\n",
      "only showing top 20 rows\n",
      "\n"
     ]
    }
   ],
   "source": [
    "# select the restaurants with the most number of reviews, seems that they are all from LV - high class buffet\n",
    "biz_raw.sort('review_count',ascending = False).select('name','review_count','city').show(truncate=False)"
   ]
  },
  {
   "cell_type": "code",
   "execution_count": 5,
   "metadata": {},
   "outputs": [
    {
     "name": "stdout",
     "output_type": "stream",
     "text": [
      "+----------------------+\n",
      "|business_id           |\n",
      "+----------------------+\n",
      "|K7lWdNUhCbcnEvI0NhGewg|\n",
      "+----------------------+\n",
      "\n"
     ]
    }
   ],
   "source": [
    "# select a business, 'Wicked Spoon', and look for its business_id\n",
    "biz_raw.filter(\"name like '%Wicked Spoon%'\").select('business_id').show(truncate=False)"
   ]
  },
  {
   "cell_type": "code",
   "execution_count": 5,
   "metadata": {
    "collapsed": true
   },
   "outputs": [],
   "source": [
    "# filter out the reviews of this restaurant\n",
    "biz = review_raw.filter(\"business_id like '%K7lWdNUhCbcnEvI0NhGewg%'\")"
   ]
  },
  {
   "cell_type": "code",
   "execution_count": 6,
   "metadata": {
    "collapsed": true
   },
   "outputs": [],
   "source": [
    "# Exclude neutral reviews:\n",
    "def pos_neg(star):\n",
    "    if star <3:\n",
    "        return 0 #negative\n",
    "    elif star >3 :\n",
    "        return 1 #positive\n",
    "    else:\n",
    "        return 2 #neutral\n",
    "    \n",
    "star_to_senti = udf(lambda x:pos_neg(x))\n",
    "full_DF = review_raw.select('text',star_to_senti('stars').alias('label')).filter(\"label != 2\")"
   ]
  },
  {
   "cell_type": "code",
   "execution_count": 7,
   "metadata": {
    "collapsed": true
   },
   "outputs": [],
   "source": [
    "#remove punctuation\n",
    "import re\n",
    "import string\n",
    "\n",
    "def remove_num_punct(text):\n",
    "\n",
    "    my_string = text.replace(\"-\", \" \")\n",
    "    regex = re.compile('[' + re.escape(string.punctuation) + '0-9\\\\r\\\\t\\\\n]')\n",
    "    nopunct = regex.sub(\" \", my_string)  # delete stuff but leave at least a space to avoid clumping together\n",
    "\n",
    "    nopunct = nopunct.split()\n",
    "    #nopunct = [stemmer.stem(w).strip(\" \") for w in nopunct] #remove stop word and normalize word using stemmer.\n",
    "    nopunct = [w.strip() for w in nopunct]\n",
    "    nopunct = ' '.join(nopunct)\n",
    "    \n",
    "    return nopunct"
   ]
  },
  {
   "cell_type": "code",
   "execution_count": 8,
   "metadata": {},
   "outputs": [
    {
     "name": "stderr",
     "output_type": "stream",
     "text": [
      "ERROR:root:Exception while sending command.\n",
      "Traceback (most recent call last):\n",
      "  File \"/usr/local/Cellar/apache-spark/2.2.0/libexec/python/lib/py4j-0.10.4-src.zip/py4j/java_gateway.py\", line 883, in send_command\n",
      "    response = connection.send_command(command)\n",
      "  File \"/usr/local/Cellar/apache-spark/2.2.0/libexec/python/lib/py4j-0.10.4-src.zip/py4j/java_gateway.py\", line 1040, in send_command\n",
      "    \"Error while receiving\", e, proto.ERROR_ON_RECEIVE)\n",
      "Py4JNetworkError: Error while receiving\n"
     ]
    },
    {
     "name": "stdout",
     "output_type": "stream",
     "text": [
      "----------------------------------------\n",
      "Exception happened during processing of request from ('127.0.0.1', 52182)\n"
     ]
    },
    {
     "name": "stderr",
     "output_type": "stream",
     "text": [
      "Traceback (most recent call last):\n",
      "  File \"/Users/yandixin_929/anaconda/lib/python2.7/SocketServer.py\", line 295, in _handle_request_noblock\n",
      "    self.process_request(request, client_address)\n",
      "  File \"/Users/yandixin_929/anaconda/lib/python2.7/SocketServer.py\", line 321, in process_request\n",
      "    self.finish_request(request, client_address)\n",
      "  File \"/Users/yandixin_929/anaconda/lib/python2.7/SocketServer.py\", line 334, in finish_request\n",
      "    self.RequestHandlerClass(request, client_address, self)\n",
      "  File \"/Users/yandixin_929/anaconda/lib/python2.7/SocketServer.py\", line 655, in __init__\n",
      "    self.handle()\n",
      "  File \"/usr/local/Cellar/apache-spark/2.2.0/libexec/python/pyspark/accumulators.py\", line 235, in handle\n",
      "    num_updates = read_int(self.rfile)\n",
      "  File \"/usr/local/Cellar/apache-spark/2.2.0/libexec/python/pyspark/serializers.py\", line 577, in read_int\n",
      "    raise EOFError\n",
      "EOFError\n",
      "ERROR:py4j.java_gateway:An error occurred while trying to connect to the Java server (127.0.0.1:52142)\n",
      "Traceback (most recent call last):\n",
      "  File \"/usr/local/Cellar/apache-spark/2.2.0/libexec/python/lib/py4j-0.10.4-src.zip/py4j/java_gateway.py\", line 963, in start\n",
      "    self.socket.connect((self.address, self.port))\n",
      "  File \"/Users/yandixin_929/anaconda/lib/python2.7/socket.py\", line 228, in meth\n",
      "    return getattr(self._sock,name)(*args)\n",
      "error: [Errno 61] Connection refused\n"
     ]
    },
    {
     "name": "stdout",
     "output_type": "stream",
     "text": [
      "----------------------------------------\n"
     ]
    },
    {
     "ename": "Py4JNetworkError",
     "evalue": "An error occurred while trying to connect to the Java server (127.0.0.1:52142)",
     "output_type": "error",
     "traceback": [
      "\u001b[0;31m---------------------------------------------------------------------------\u001b[0m",
      "\u001b[0;31mPy4JNetworkError\u001b[0m                          Traceback (most recent call last)",
      "\u001b[0;32m/Users/yandixin_929/anaconda/lib/python2.7/site-packages/IPython/core/interactiveshell.pyc\u001b[0m in \u001b[0;36mrun_code\u001b[0;34m(self, code_obj, result)\u001b[0m\n\u001b[1;32m   2896\u001b[0m             \u001b[0;32mif\u001b[0m \u001b[0mresult\u001b[0m \u001b[0;32mis\u001b[0m \u001b[0;32mnot\u001b[0m \u001b[0mNone\u001b[0m\u001b[0;34m:\u001b[0m\u001b[0;34m\u001b[0m\u001b[0m\n\u001b[1;32m   2897\u001b[0m                 \u001b[0mresult\u001b[0m\u001b[0;34m.\u001b[0m\u001b[0merror_in_exec\u001b[0m \u001b[0;34m=\u001b[0m \u001b[0msys\u001b[0m\u001b[0;34m.\u001b[0m\u001b[0mexc_info\u001b[0m\u001b[0;34m(\u001b[0m\u001b[0;34m)\u001b[0m\u001b[0;34m[\u001b[0m\u001b[0;36m1\u001b[0m\u001b[0;34m]\u001b[0m\u001b[0;34m\u001b[0m\u001b[0m\n\u001b[0;32m-> 2898\u001b[0;31m             \u001b[0mself\u001b[0m\u001b[0;34m.\u001b[0m\u001b[0mshowtraceback\u001b[0m\u001b[0;34m(\u001b[0m\u001b[0;34m)\u001b[0m\u001b[0;34m\u001b[0m\u001b[0m\n\u001b[0m\u001b[1;32m   2899\u001b[0m         \u001b[0;32melse\u001b[0m\u001b[0;34m:\u001b[0m\u001b[0;34m\u001b[0m\u001b[0m\n\u001b[1;32m   2900\u001b[0m             \u001b[0moutflag\u001b[0m \u001b[0;34m=\u001b[0m \u001b[0;36m0\u001b[0m\u001b[0;34m\u001b[0m\u001b[0m\n",
      "\u001b[0;32m/Users/yandixin_929/anaconda/lib/python2.7/site-packages/IPython/core/interactiveshell.pyc\u001b[0m in \u001b[0;36mshowtraceback\u001b[0;34m(self, exc_tuple, filename, tb_offset, exception_only)\u001b[0m\n\u001b[1;32m   1824\u001b[0m                                             value, tb, tb_offset=tb_offset)\n\u001b[1;32m   1825\u001b[0m \u001b[0;34m\u001b[0m\u001b[0m\n\u001b[0;32m-> 1826\u001b[0;31m                     \u001b[0mself\u001b[0m\u001b[0;34m.\u001b[0m\u001b[0m_showtraceback\u001b[0m\u001b[0;34m(\u001b[0m\u001b[0metype\u001b[0m\u001b[0;34m,\u001b[0m \u001b[0mvalue\u001b[0m\u001b[0;34m,\u001b[0m \u001b[0mstb\u001b[0m\u001b[0;34m)\u001b[0m\u001b[0;34m\u001b[0m\u001b[0m\n\u001b[0m\u001b[1;32m   1827\u001b[0m                     \u001b[0;32mif\u001b[0m \u001b[0mself\u001b[0m\u001b[0;34m.\u001b[0m\u001b[0mcall_pdb\u001b[0m\u001b[0;34m:\u001b[0m\u001b[0;34m\u001b[0m\u001b[0m\n\u001b[1;32m   1828\u001b[0m                         \u001b[0;31m# drop into debugger\u001b[0m\u001b[0;34m\u001b[0m\u001b[0;34m\u001b[0m\u001b[0m\n",
      "\u001b[0;32m/Users/yandixin_929/anaconda/lib/python2.7/site-packages/ipykernel/zmqshell.pyc\u001b[0m in \u001b[0;36m_showtraceback\u001b[0;34m(self, etype, evalue, stb)\u001b[0m\n\u001b[1;32m    509\u001b[0m             \u001b[0;34mu'traceback'\u001b[0m \u001b[0;34m:\u001b[0m \u001b[0mstb\u001b[0m\u001b[0;34m,\u001b[0m\u001b[0;34m\u001b[0m\u001b[0m\n\u001b[1;32m    510\u001b[0m             \u001b[0;34mu'ename'\u001b[0m \u001b[0;34m:\u001b[0m \u001b[0municode_type\u001b[0m\u001b[0;34m(\u001b[0m\u001b[0metype\u001b[0m\u001b[0;34m.\u001b[0m\u001b[0m__name__\u001b[0m\u001b[0;34m)\u001b[0m\u001b[0;34m,\u001b[0m\u001b[0;34m\u001b[0m\u001b[0m\n\u001b[0;32m--> 511\u001b[0;31m             \u001b[0;34mu'evalue'\u001b[0m \u001b[0;34m:\u001b[0m \u001b[0mpy3compat\u001b[0m\u001b[0;34m.\u001b[0m\u001b[0msafe_unicode\u001b[0m\u001b[0;34m(\u001b[0m\u001b[0mevalue\u001b[0m\u001b[0;34m)\u001b[0m\u001b[0;34m,\u001b[0m\u001b[0;34m\u001b[0m\u001b[0m\n\u001b[0m\u001b[1;32m    512\u001b[0m         }\n\u001b[1;32m    513\u001b[0m \u001b[0;34m\u001b[0m\u001b[0m\n",
      "\u001b[0;32m/Users/yandixin_929/anaconda/lib/python2.7/site-packages/ipython_genutils/py3compat.pyc\u001b[0m in \u001b[0;36msafe_unicode\u001b[0;34m(e)\u001b[0m\n\u001b[1;32m     63\u001b[0m     \"\"\"\n\u001b[1;32m     64\u001b[0m     \u001b[0;32mtry\u001b[0m\u001b[0;34m:\u001b[0m\u001b[0;34m\u001b[0m\u001b[0m\n\u001b[0;32m---> 65\u001b[0;31m         \u001b[0;32mreturn\u001b[0m \u001b[0municode_type\u001b[0m\u001b[0;34m(\u001b[0m\u001b[0me\u001b[0m\u001b[0;34m)\u001b[0m\u001b[0;34m\u001b[0m\u001b[0m\n\u001b[0m\u001b[1;32m     66\u001b[0m     \u001b[0;32mexcept\u001b[0m \u001b[0mUnicodeError\u001b[0m\u001b[0;34m:\u001b[0m\u001b[0;34m\u001b[0m\u001b[0m\n\u001b[1;32m     67\u001b[0m         \u001b[0;32mpass\u001b[0m\u001b[0;34m\u001b[0m\u001b[0m\n",
      "\u001b[0;32m/usr/local/Cellar/apache-spark/2.2.0/libexec/python/lib/py4j-0.10.4-src.zip/py4j/protocol.py\u001b[0m in \u001b[0;36m__str__\u001b[0;34m(self)\u001b[0m\n\u001b[1;32m    418\u001b[0m     \u001b[0;32mdef\u001b[0m \u001b[0m__str__\u001b[0m\u001b[0;34m(\u001b[0m\u001b[0mself\u001b[0m\u001b[0;34m)\u001b[0m\u001b[0;34m:\u001b[0m\u001b[0;34m\u001b[0m\u001b[0m\n\u001b[1;32m    419\u001b[0m         \u001b[0mgateway_client\u001b[0m \u001b[0;34m=\u001b[0m \u001b[0mself\u001b[0m\u001b[0;34m.\u001b[0m\u001b[0mjava_exception\u001b[0m\u001b[0;34m.\u001b[0m\u001b[0m_gateway_client\u001b[0m\u001b[0;34m\u001b[0m\u001b[0m\n\u001b[0;32m--> 420\u001b[0;31m         \u001b[0manswer\u001b[0m \u001b[0;34m=\u001b[0m \u001b[0mgateway_client\u001b[0m\u001b[0;34m.\u001b[0m\u001b[0msend_command\u001b[0m\u001b[0;34m(\u001b[0m\u001b[0mself\u001b[0m\u001b[0;34m.\u001b[0m\u001b[0mexception_cmd\u001b[0m\u001b[0;34m)\u001b[0m\u001b[0;34m\u001b[0m\u001b[0m\n\u001b[0m\u001b[1;32m    421\u001b[0m         \u001b[0mreturn_value\u001b[0m \u001b[0;34m=\u001b[0m \u001b[0mget_return_value\u001b[0m\u001b[0;34m(\u001b[0m\u001b[0manswer\u001b[0m\u001b[0;34m,\u001b[0m \u001b[0mgateway_client\u001b[0m\u001b[0;34m,\u001b[0m \u001b[0mNone\u001b[0m\u001b[0;34m,\u001b[0m \u001b[0mNone\u001b[0m\u001b[0;34m)\u001b[0m\u001b[0;34m\u001b[0m\u001b[0m\n\u001b[1;32m    422\u001b[0m         \u001b[0;32mreturn\u001b[0m \u001b[0;34m\"{0}: {1}\"\u001b[0m\u001b[0;34m.\u001b[0m\u001b[0mformat\u001b[0m\u001b[0;34m(\u001b[0m\u001b[0mself\u001b[0m\u001b[0;34m.\u001b[0m\u001b[0merrmsg\u001b[0m\u001b[0;34m,\u001b[0m \u001b[0mreturn_value\u001b[0m\u001b[0;34m)\u001b[0m\u001b[0;34m\u001b[0m\u001b[0m\n",
      "\u001b[0;32m/usr/local/Cellar/apache-spark/2.2.0/libexec/python/lib/py4j-0.10.4-src.zip/py4j/java_gateway.py\u001b[0m in \u001b[0;36msend_command\u001b[0;34m(self, command, retry, binary)\u001b[0m\n\u001b[1;32m    879\u001b[0m          \u001b[0;32mif\u001b[0m \u001b[0;34m`\u001b[0m\u001b[0mbinary\u001b[0m\u001b[0;34m`\u001b[0m \u001b[0;32mis\u001b[0m \u001b[0;34m`\u001b[0m\u001b[0mTrue\u001b[0m\u001b[0;34m`\u001b[0m\u001b[0;34m.\u001b[0m\u001b[0;34m\u001b[0m\u001b[0m\n\u001b[1;32m    880\u001b[0m         \"\"\"\n\u001b[0;32m--> 881\u001b[0;31m         \u001b[0mconnection\u001b[0m \u001b[0;34m=\u001b[0m \u001b[0mself\u001b[0m\u001b[0;34m.\u001b[0m\u001b[0m_get_connection\u001b[0m\u001b[0;34m(\u001b[0m\u001b[0;34m)\u001b[0m\u001b[0;34m\u001b[0m\u001b[0m\n\u001b[0m\u001b[1;32m    882\u001b[0m         \u001b[0;32mtry\u001b[0m\u001b[0;34m:\u001b[0m\u001b[0;34m\u001b[0m\u001b[0m\n\u001b[1;32m    883\u001b[0m             \u001b[0mresponse\u001b[0m \u001b[0;34m=\u001b[0m \u001b[0mconnection\u001b[0m\u001b[0;34m.\u001b[0m\u001b[0msend_command\u001b[0m\u001b[0;34m(\u001b[0m\u001b[0mcommand\u001b[0m\u001b[0;34m)\u001b[0m\u001b[0;34m\u001b[0m\u001b[0m\n",
      "\u001b[0;32m/usr/local/Cellar/apache-spark/2.2.0/libexec/python/lib/py4j-0.10.4-src.zip/py4j/java_gateway.py\u001b[0m in \u001b[0;36m_get_connection\u001b[0;34m(self)\u001b[0m\n\u001b[1;32m    827\u001b[0m             \u001b[0mconnection\u001b[0m \u001b[0;34m=\u001b[0m \u001b[0mself\u001b[0m\u001b[0;34m.\u001b[0m\u001b[0mdeque\u001b[0m\u001b[0;34m.\u001b[0m\u001b[0mpop\u001b[0m\u001b[0;34m(\u001b[0m\u001b[0;34m)\u001b[0m\u001b[0;34m\u001b[0m\u001b[0m\n\u001b[1;32m    828\u001b[0m         \u001b[0;32mexcept\u001b[0m \u001b[0mIndexError\u001b[0m\u001b[0;34m:\u001b[0m\u001b[0;34m\u001b[0m\u001b[0m\n\u001b[0;32m--> 829\u001b[0;31m             \u001b[0mconnection\u001b[0m \u001b[0;34m=\u001b[0m \u001b[0mself\u001b[0m\u001b[0;34m.\u001b[0m\u001b[0m_create_connection\u001b[0m\u001b[0;34m(\u001b[0m\u001b[0;34m)\u001b[0m\u001b[0;34m\u001b[0m\u001b[0m\n\u001b[0m\u001b[1;32m    830\u001b[0m         \u001b[0;32mreturn\u001b[0m \u001b[0mconnection\u001b[0m\u001b[0;34m\u001b[0m\u001b[0m\n\u001b[1;32m    831\u001b[0m \u001b[0;34m\u001b[0m\u001b[0m\n",
      "\u001b[0;32m/usr/local/Cellar/apache-spark/2.2.0/libexec/python/lib/py4j-0.10.4-src.zip/py4j/java_gateway.py\u001b[0m in \u001b[0;36m_create_connection\u001b[0;34m(self)\u001b[0m\n\u001b[1;32m    833\u001b[0m         connection = GatewayConnection(\n\u001b[1;32m    834\u001b[0m             self.gateway_parameters, self.gateway_property)\n\u001b[0;32m--> 835\u001b[0;31m         \u001b[0mconnection\u001b[0m\u001b[0;34m.\u001b[0m\u001b[0mstart\u001b[0m\u001b[0;34m(\u001b[0m\u001b[0;34m)\u001b[0m\u001b[0;34m\u001b[0m\u001b[0m\n\u001b[0m\u001b[1;32m    836\u001b[0m         \u001b[0;32mreturn\u001b[0m \u001b[0mconnection\u001b[0m\u001b[0;34m\u001b[0m\u001b[0m\n\u001b[1;32m    837\u001b[0m \u001b[0;34m\u001b[0m\u001b[0m\n",
      "\u001b[0;32m/usr/local/Cellar/apache-spark/2.2.0/libexec/python/lib/py4j-0.10.4-src.zip/py4j/java_gateway.py\u001b[0m in \u001b[0;36mstart\u001b[0;34m(self)\u001b[0m\n\u001b[1;32m    968\u001b[0m                 \u001b[0;34m\"server ({0}:{1})\"\u001b[0m\u001b[0;34m.\u001b[0m\u001b[0mformat\u001b[0m\u001b[0;34m(\u001b[0m\u001b[0mself\u001b[0m\u001b[0;34m.\u001b[0m\u001b[0maddress\u001b[0m\u001b[0;34m,\u001b[0m \u001b[0mself\u001b[0m\u001b[0;34m.\u001b[0m\u001b[0mport\u001b[0m\u001b[0;34m)\u001b[0m\u001b[0;34m\u001b[0m\u001b[0m\n\u001b[1;32m    969\u001b[0m             \u001b[0mlogger\u001b[0m\u001b[0;34m.\u001b[0m\u001b[0mexception\u001b[0m\u001b[0;34m(\u001b[0m\u001b[0mmsg\u001b[0m\u001b[0;34m)\u001b[0m\u001b[0;34m\u001b[0m\u001b[0m\n\u001b[0;32m--> 970\u001b[0;31m             \u001b[0;32mraise\u001b[0m \u001b[0mPy4JNetworkError\u001b[0m\u001b[0;34m(\u001b[0m\u001b[0mmsg\u001b[0m\u001b[0;34m,\u001b[0m \u001b[0me\u001b[0m\u001b[0;34m)\u001b[0m\u001b[0;34m\u001b[0m\u001b[0m\n\u001b[0m\u001b[1;32m    971\u001b[0m \u001b[0;34m\u001b[0m\u001b[0m\n\u001b[1;32m    972\u001b[0m     \u001b[0;32mdef\u001b[0m \u001b[0mclose\u001b[0m\u001b[0;34m(\u001b[0m\u001b[0mself\u001b[0m\u001b[0;34m,\u001b[0m \u001b[0mreset\u001b[0m\u001b[0;34m=\u001b[0m\u001b[0mFalse\u001b[0m\u001b[0;34m)\u001b[0m\u001b[0;34m:\u001b[0m\u001b[0;34m\u001b[0m\u001b[0m\n",
      "\u001b[0;31mPy4JNetworkError\u001b[0m: An error occurred while trying to connect to the Java server (127.0.0.1:52142)"
     ]
    }
   ],
   "source": [
    "udf_num_punct = udf(lambda x:remove_num_punct(x))\n",
    "review_words = full_DF.select(udf_num_punct('text').alias('words'))\n",
    "tokenizer = Tokenizer(inputCol=\"words\", outputCol=\"tokenized\")\n",
    "review_words1 = tokenizer.transform(review_words)\n",
    "remover = StopWordsRemover(inputCol=\"tokenized\", outputCol=\"filtered\", caseSensitive=False)\n",
    "review_words2 = remover.transform(review_words1)\n",
    "biz_list = [item for sublist in review_words2.select('filtered').collect() for item in sublist.filtered]\n",
    "biz_list\n"
   ]
  },
  {
   "cell_type": "code",
   "execution_count": null,
   "metadata": {
    "collapsed": true
   },
   "outputs": [],
   "source": [
    "from os import path\n",
    "from PIL import Image\n",
    "import numpy as np\n",
    "import matplotlib.pyplot as plt\n",
    "\n",
    "from wordcloud import WordCloud, STOPWORDS\n",
    "\n",
    "# Read the whole text.\n",
    "#text = open('alice.txt').read()\n",
    "text = \" \".join(biz_list) #read in review text\n",
    "\n",
    "# read the mask image\n",
    "# taken from\n",
    "# http://www.stencilry.org/stencils/movies/alice%20in%20wonderland/255fk.jpg\n",
    "alice_mask = np.array(Image.open(\"tree5.png\"))\n",
    "\n",
    "stopwords = set(STOPWORDS)\n",
    "stopwords.add(\"said\")\n",
    "\n",
    "wc = WordCloud(background_color=\"white\",width=2000, height=1000,  max_words=2000, mask=alice_mask,\n",
    "               stopwords=stopwords)\n",
    "# generate word cloud\n",
    "wc.generate(text)\n",
    "\n",
    "# store to file\n",
    "wc.to_file(\"alice.png\")\n",
    "\n",
    "# show\n",
    "plt.figure(figsize=(20, 15))\n",
    "plt.imshow(wc, interpolation='bilinear')\n",
    "plt.axis(\"off\")\n",
    "plt.figure(figsize=(20, 15))\n",
    "plt.axis(\"off\")\n",
    "plt.show()"
   ]
  },
  {
   "cell_type": "markdown",
   "metadata": {},
   "source": [
    "## --------------------------------------"
   ]
  },
  {
   "cell_type": "code",
   "execution_count": null,
   "metadata": {
    "collapsed": true
   },
   "outputs": [],
   "source": [
    "from collections import Counter\n",
    "ctr = Counter(biz_list)\n",
    "\n",
    "from wordcloud import WordCloud\n",
    "import matplotlib.pyplot as plt\n",
    "\n",
    "wordcloud = WordCloud()\n",
    "wordcloud.fit_words(ctr)\n",
    "\n",
    "fig=plt.figure(figsize=(12, 10))   # Prepare a plot 5x3 inches\n",
    "plt.imshow(wordcloud)\n",
    "plt.axis(\"off\")\n",
    "plt.show()"
   ]
  },
  {
   "cell_type": "code",
   "execution_count": 67,
   "metadata": {
    "collapsed": true
   },
   "outputs": [],
   "source": [
    "#subset_DF = full_DF.sample(False, 0.05, 1)"
   ]
  },
  {
   "cell_type": "code",
   "execution_count": 69,
   "metadata": {
    "collapsed": true
   },
   "outputs": [],
   "source": [
    "pos = subset_DF.filter('label = 1').select('text')\n",
    "neg = subset_DF.filter('label = 0').select('text')"
   ]
  },
  {
   "cell_type": "code",
   "execution_count": 71,
   "metadata": {
    "collapsed": true
   },
   "outputs": [],
   "source": [
    "#remove punctuation\n",
    "import re\n",
    "import string\n",
    "\n",
    "def remove_num_punct(text):\n",
    "\n",
    "    my_string = text.replace(\"-\", \" \")\n",
    "    regex = re.compile('[' + re.escape(string.punctuation) + '0-9\\\\r\\\\t\\\\n]')\n",
    "    nopunct = regex.sub(\" \", my_string)  # delete stuff but leave at least a space to avoid clumping together\n",
    "\n",
    "    nopunct = nopunct.split()\n",
    "    #nopunct = [stemmer.stem(w).strip(\" \") for w in nopunct] #remove stop word and normalize word using stemmer.\n",
    "    nopunct = [w.strip() for w in nopunct]\n",
    "    nopunct = ' '.join(nopunct)\n",
    "    \n",
    "    return nopunct\n",
    "\n",
    "\n"
   ]
  },
  {
   "cell_type": "code",
   "execution_count": 72,
   "metadata": {},
   "outputs": [
    {
     "data": {
      "image/png": "[encoded data removed]",
      "text/plain": [
       "<matplotlib.figure.Figure at 0x107d837d0>"
      ]
     },
     "metadata": {},
     "output_type": "display_data"
    }
   ],
   "source": [
    "udf_num_punct = udf(lambda x:remove_num_punct(x))\n",
    "review_words = pos.select(udf_num_punct('text').alias('words'))\n",
    "tokenizer = Tokenizer(inputCol=\"words\", outputCol=\"tokenized\")\n",
    "review_words1 = tokenizer.transform(review_words)\n",
    "remover = StopWordsRemover(inputCol=\"tokenized\", outputCol=\"filtered\", caseSensitive=False)\n",
    "review_words2 = remover.transform(review_words1)\n",
    "biz_list = [item for sublist in review_words2.select('filtered').collect() for item in sublist.filtered]\n",
    "\n",
    "from collections import Counter\n",
    "ctr = Counter(biz_list)\n",
    "\n",
    "from wordcloud import WordCloud\n",
    "import matplotlib.pyplot as plt\n",
    "\n",
    "wordcloud = WordCloud()\n",
    "wordcloud.fit_words(ctr)\n",
    "\n",
    "fig=plt.figure(figsize=(5, 3))   # Prepare a plot 5x3 inches\n",
    "plt.imshow(wordcloud)\n",
    "plt.axis(\"off\")\n",
    "plt.show()"
   ]
  },
  {
   "cell_type": "code",
   "execution_count": 73,
   "metadata": {},
   "outputs": [
    {
     "data": {
      "image/png": "[encoded data removed]",
      "text/plain": [
       "<matplotlib.figure.Figure at 0x10747ec50>"
      ]
     },
     "metadata": {},
     "output_type": "display_data"
    }
   ],
   "source": [
    "udf_num_punct = udf(lambda x:remove_num_punct(x))\n",
    "review_words = neg.select(udf_num_punct('text').alias('words'))\n",
    "tokenizer = Tokenizer(inputCol=\"words\", outputCol=\"tokenized\")\n",
    "review_words1 = tokenizer.transform(review_words)\n",
    "remover = StopWordsRemover(inputCol=\"tokenized\", outputCol=\"filtered\", caseSensitive=False)\n",
    "review_words2 = remover.transform(review_words1)\n",
    "biz_list = [item for sublist in review_words2.select('filtered').collect() for item in sublist.filtered]\n",
    "\n",
    "from collections import Counter\n",
    "ctr = Counter(biz_list)\n",
    "\n",
    "from wordcloud import WordCloud\n",
    "import matplotlib.pyplot as plt\n",
    "\n",
    "wordcloud = WordCloud()\n",
    "wordcloud.fit_words(ctr)\n",
    "\n",
    "fig=plt.figure(figsize=(5, 3))   # Prepare a plot 5x3 inches\n",
    "plt.imshow(wordcloud)\n",
    "plt.axis(\"off\")\n",
    "plt.show()"
   ]
  },
  {
   "cell_type": "code",
   "execution_count": null,
   "metadata": {
    "collapsed": true
   },
   "outputs": [],
   "source": []
  },
  {
   "cell_type": "code",
   "execution_count": null,
   "metadata": {
    "collapsed": true
   },
   "outputs": [],
   "source": []
  },
  {
   "cell_type": "code",
   "execution_count": null,
   "metadata": {
    "collapsed": true
   },
   "outputs": [],
   "source": []
  },
  {
   "cell_type": "code",
   "execution_count": null,
   "metadata": {
    "collapsed": true
   },
   "outputs": [],
   "source": []
  },
  {
   "cell_type": "code",
   "execution_count": 61,
   "metadata": {},
   "outputs": [
    {
     "name": "stdout",
     "output_type": "stream",
     "text": [
      "+--------------------+--------------------+--------------------+\n",
      "|               words|           tokenized|            filtered|\n",
      "+--------------------+--------------------+--------------------+\n",
      "|One of the better...|[one, of, the, be...|[one, better, buf...|\n",
      "|gourmet normal fo...|[gourmet, normal,...|[gourmet, normal,...|\n",
      "|In terms of buffe...|[in, terms, of, b...|[terms, buffets, ...|\n",
      "|I would definitel...|[i, would, defini...|[definitely, come...|\n",
      "|The most amazing ...|[the, most, amazi...|[amazing, buffet,...|\n",
      "|I dont frequent b...|[i, dont, frequen...|[dont, frequent, ...|\n",
      "|By far one of the...|[by, far, one, of...|[far, one, amazin...|\n",
      "|stars This is my ...|[stars, this, is,...|[stars, new, favo...|\n",
      "|In my opinion thi...|[in, my, opinion,...|[opinion, best, b...|\n",
      "|Exhausted after a...|[exhausted, after...|[exhausted, long,...|\n",
      "|Large groups requ...|[large, groups, r...|[large, groups, r...|\n",
      "|My Hubby and I we...|[my, hubby, and, ...|[hubby, went, wic...|\n",
      "|Was a fan before ...|[was, a, fan, bef...|[fan, anymore, ep...|\n",
      "|Sehr gutes Buffet...|[sehr, gutes, buf...|[sehr, gutes, buf...|\n",
      "|Came here for bru...|[came, here, for,...|[came, brunch, ov...|\n",
      "|We went on a Mond...|[we, went, on, a,...|[went, monday, fo...|\n",
      "|Decided to come h...|[decided, to, com...|[decided, come, d...|\n",
      "|Waited much too l...|[waited, much, to...|[waited, much, lo...|\n",
      "|What am amazing b...|[what, am, amazin...|[amazing, buffet,...|\n",
      "|highly recommende...|[highly, recommen...|[highly, recommen...|\n",
      "+--------------------+--------------------+--------------------+\n",
      "only showing top 20 rows\n",
      "\n"
     ]
    }
   ],
   "source": [
    "tokenizer = Tokenizer(inputCol=\"words\", outputCol=\"tokenized\")\n",
    "review_words1 = tokenizer.transform(review_words)\n",
    "remover = StopWordsRemover(inputCol=\"tokenized\", outputCol=\"filtered\", caseSensitive=False)\n",
    "review_words2 = remover.transform(review_words1)\n",
    "review_words2.show()"
   ]
  },
  {
   "cell_type": "code",
   "execution_count": null,
   "metadata": {
    "collapsed": true
   },
   "outputs": [],
   "source": []
  },
  {
   "cell_type": "code",
   "execution_count": null,
   "metadata": {
    "collapsed": true
   },
   "outputs": [],
   "source": []
  },
  {
   "cell_type": "code",
   "execution_count": null,
   "metadata": {
    "collapsed": true
   },
   "outputs": [],
   "source": []
  },
  {
   "cell_type": "code",
   "execution_count": null,
   "metadata": {
    "collapsed": true
   },
   "outputs": [],
   "source": []
  },
  {
   "cell_type": "code",
   "execution_count": null,
   "metadata": {
    "collapsed": true
   },
   "outputs": [],
   "source": []
  },
  {
   "cell_type": "code",
   "execution_count": null,
   "metadata": {
    "collapsed": true
   },
   "outputs": [],
   "source": []
  },
  {
   "cell_type": "code",
   "execution_count": null,
   "metadata": {
    "collapsed": true
   },
   "outputs": [],
   "source": []
  },
  {
   "cell_type": "code",
   "execution_count": null,
   "metadata": {
    "collapsed": true
   },
   "outputs": [],
   "source": []
  },
  {
   "cell_type": "code",
   "execution_count": null,
   "metadata": {
    "collapsed": true
   },
   "outputs": [],
   "source": []
  },
  {
   "cell_type": "code",
   "execution_count": null,
   "metadata": {
    "collapsed": true
   },
   "outputs": [],
   "source": []
  },
  {
   "cell_type": "code",
   "execution_count": null,
   "metadata": {
    "collapsed": true
   },
   "outputs": [],
   "source": []
  },
  {
   "cell_type": "code",
   "execution_count": null,
   "metadata": {
    "collapsed": true
   },
   "outputs": [],
   "source": []
  },
  {
   "cell_type": "code",
   "execution_count": null,
   "metadata": {
    "collapsed": true
   },
   "outputs": [],
   "source": []
  },
  {
   "cell_type": "code",
   "execution_count": null,
   "metadata": {
    "collapsed": true
   },
   "outputs": [],
   "source": []
  },
  {
   "cell_type": "code",
   "execution_count": null,
   "metadata": {
    "collapsed": true
   },
   "outputs": [],
   "source": []
  },
  {
   "cell_type": "code",
   "execution_count": null,
   "metadata": {
    "collapsed": true
   },
   "outputs": [],
   "source": []
  },
  {
   "cell_type": "code",
   "execution_count": null,
   "metadata": {
    "collapsed": true
   },
   "outputs": [],
   "source": []
  },
  {
   "cell_type": "code",
   "execution_count": null,
   "metadata": {
    "collapsed": true
   },
   "outputs": [],
   "source": []
  },
  {
   "cell_type": "code",
   "execution_count": null,
   "metadata": {
    "collapsed": true
   },
   "outputs": [],
   "source": []
  },
  {
   "cell_type": "code",
   "execution_count": null,
   "metadata": {
    "collapsed": true
   },
   "outputs": [],
   "source": []
  },
  {
   "cell_type": "code",
   "execution_count": null,
   "metadata": {
    "collapsed": true
   },
   "outputs": [],
   "source": []
  },
  {
   "cell_type": "code",
   "execution_count": null,
   "metadata": {
    "collapsed": true
   },
   "outputs": [],
   "source": []
  },
  {
   "cell_type": "code",
   "execution_count": null,
   "metadata": {
    "collapsed": true
   },
   "outputs": [],
   "source": []
  },
  {
   "cell_type": "code",
   "execution_count": null,
   "metadata": {
    "collapsed": true
   },
   "outputs": [],
   "source": []
  },
  {
   "cell_type": "code",
   "execution_count": 64,
   "metadata": {},
   "outputs": [
    {
     "data": {
      "text/plain": [
       "[u'one',\n",
       " u'better',\n",
       " u'buffets',\n",
       " u'vegas',\n",
       " u'almost',\n",
       " u'dinner',\n",
       " u'carefully',\n",
       " u'prepared',\n",
       " u'foods',\n",
       " u'pleasing',\n",
       " u'eyes',\n",
       " u'nose',\n",
       " u'tongue',\n",
       " u'get',\n",
       " u'gelato',\n",
       " u'various',\n",
       " u'flavors',\n",
       " u'smoked',\n",
       " u'salmon',\n",
       " u'slices',\n",
       " u'minus',\n",
       " u'one',\n",
       " u'star',\n",
       " u'disgusted',\n",
       " u'spilled',\n",
       " u'beer',\n",
       " u'register',\n",
       " u'counter',\n",
       " u'ground',\n",
       " u'rested',\n",
       " u'elbow',\n",
       " u'one',\n",
       " u'end',\n",
       " u'smell',\n",
       " u'beer',\n",
       " u'lingered',\n",
       " u'throughout',\n",
       " u'dinner',\n",
       " u'blegh',\n",
       " u'gourmet',\n",
       " u'normal',\n",
       " u'food',\n",
       " u'presentation',\n",
       " u'dishes',\n",
       " u'tapas',\n",
       " u'style',\n",
       " u'mini',\n",
       " u'pots',\n",
       " u'pans',\n",
       " u'containing',\n",
       " u'expertly',\n",
       " u'crafted',\n",
       " u'dishes',\n",
       " u'used',\n",
       " u'mushroom',\n",
       " u'cooked',\n",
       " u'reduced',\n",
       " u'wine',\n",
       " u'sauce',\n",
       " u'favorite',\n",
       " u'dish',\n",
       " u'didn',\n",
       " u'see',\n",
       " u'time',\n",
       " u'hear',\n",
       " u'mac',\n",
       " u'cheese',\n",
       " u'amazing',\n",
       " u'havent',\n",
       " u'im',\n",
       " u'lactose',\n",
       " u'intolerant',\n",
       " u'slabs',\n",
       " u'bacon',\n",
       " u'really',\n",
       " u'long',\n",
       " u'sausage',\n",
       " u'never',\n",
       " u'fail',\n",
       " u'impress',\n",
       " u'say',\n",
       " u'favorite',\n",
       " u'things',\n",
       " u'place',\n",
       " u'desserts',\n",
       " u'gelato',\n",
       " u'chocolate',\n",
       " u'covered',\n",
       " u'strawberries',\n",
       " u'surprisingly',\n",
       " u'fruit',\n",
       " u'make',\n",
       " u'sure',\n",
       " u'pick',\n",
       " u'green',\n",
       " u'pear',\n",
       " u'salad',\n",
       " u'bar',\n",
       " u'area',\n",
       " u'across',\n",
       " u'breakfast',\n",
       " u'area',\n",
       " u'amazing',\n",
       " u'try',\n",
       " u'also',\n",
       " u'get',\n",
       " u'better',\n",
       " u'bang',\n",
       " u'buck',\n",
       " u'order',\n",
       " u'glass',\n",
       " u'champagne',\n",
       " u'free',\n",
       " u'drink',\n",
       " u'order',\n",
       " u'glass',\n",
       " u'oj',\n",
       " u'free',\n",
       " u'instead',\n",
       " u'mimosa',\n",
       " u'get',\n",
       " u'well',\n",
       " u'alcohol',\n",
       " u'terms',\n",
       " u'buffets',\n",
       " u'place',\n",
       " u'great',\n",
       " u'wide',\n",
       " u'variety',\n",
       " u'food',\n",
       " u'presentation',\n",
       " u'great',\n",
       " u'love',\n",
       " u'small',\n",
       " u'pots',\n",
       " u'bite',\n",
       " u'dishes',\n",
       " u'impressed',\n",
       " u'bone',\n",
       " u'marrow',\n",
       " u'carving',\n",
       " u'station',\n",
       " u'well',\n",
       " u'looking',\n",
       " u'something',\n",
       " u'different',\n",
       " u'buffet',\n",
       " u'experience',\n",
       " u'wicked',\n",
       " u'spoon',\n",
       " u'must',\n",
       " u'try',\n",
       " u'skip',\n",
       " u'mac',\n",
       " u'cheese',\n",
       " u'station',\n",
       " u'save',\n",
       " u'room',\n",
       " u'dessert',\n",
       " u'best',\n",
       " u'part',\n",
       " u'line',\n",
       " u'definitely',\n",
       " u'come',\n",
       " u'back',\n",
       " u'place',\n",
       " u'didnt',\n",
       " u'come',\n",
       " u'dinner',\n",
       " u'think',\n",
       " u'best',\n",
       " u'lunch',\n",
       " u'far',\n",
       " u'love',\n",
       " u'desserts',\n",
       " u'especially',\n",
       " u'one',\n",
       " u'silver',\n",
       " u'egg',\n",
       " u'wait',\n",
       " u'try',\n",
       " u'dinner',\n",
       " u'buffet',\n",
       " u'amazing',\n",
       " u'buffet',\n",
       " u'las',\n",
       " u'vegas',\n",
       " u'come',\n",
       " u'ask',\n",
       " u'hong',\n",
       " u'best',\n",
       " u'waiter',\n",
       " u'ever',\n",
       " u'ask',\n",
       " u'ps',\n",
       " u'try',\n",
       " u'eggs',\n",
       " u'benedict',\n",
       " u'desserts',\n",
       " u'dont',\n",
       " u'frequent',\n",
       " u'buffets',\n",
       " u'cup',\n",
       " u'tea',\n",
       " u'reading',\n",
       " u'reviews',\n",
       " u'place',\n",
       " u'seeing',\n",
       " u'pictures',\n",
       " u'try',\n",
       " u'grosses',\n",
       " u'buffets',\n",
       " u'everything',\n",
       " u'disgusting',\n",
       " u'theres',\n",
       " u'tons',\n",
       " u'people',\n",
       " u'grabbing',\n",
       " u'food',\n",
       " u'messy',\n",
       " u'dont',\n",
       " u'know',\n",
       " u'people',\n",
       " u'habits',\n",
       " u'eating',\n",
       " u'drop',\n",
       " u'spoon',\n",
       " u'put',\n",
       " u'back',\n",
       " u'dish',\n",
       " u'wouldve',\n",
       " u'never',\n",
       " u'known',\n",
       " u'sneeze',\n",
       " u'hand',\n",
       " u'touch',\n",
       " u'food',\n",
       " u'without',\n",
       " u'thinking',\n",
       " u'twice',\n",
       " u'using',\n",
       " u'hand',\n",
       " u'sanitizer',\n",
       " u'everything',\n",
       " u'served',\n",
       " u'little',\n",
       " u'plates',\n",
       " u'brilliant',\n",
       " u'omg',\n",
       " u'whoever',\n",
       " u'thought',\n",
       " u'deserves',\n",
       " u'promotion',\n",
       " u'new',\n",
       " u'title',\n",
       " u'vp',\n",
       " u'buffet',\n",
       " u'operations',\n",
       " u'crown',\n",
       " u'food',\n",
       " u'awesome',\n",
       " u'little',\n",
       " u'portion',\n",
       " u'control',\n",
       " u'therefore',\n",
       " u'try',\n",
       " u'much',\n",
       " u'food',\n",
       " u'price',\n",
       " u'service',\n",
       " u'food',\n",
       " u'place',\n",
       " u'favorite',\n",
       " u'buffet',\n",
       " u'veags',\n",
       " u'wish',\n",
       " u'one',\n",
       " u'la',\n",
       " u'boooo',\n",
       " u'far',\n",
       " u'one',\n",
       " u'amazing',\n",
       " u'brunch',\n",
       " u'experiences',\n",
       " u'ever',\n",
       " u'loves',\n",
       " u'good',\n",
       " u'brunch',\n",
       " u've',\n",
       " u'heard',\n",
       " u'nothing',\n",
       " u'amazing',\n",
       " u'things',\n",
       " u'place',\n",
       " u'check',\n",
       " u'come',\n",
       " u'sunday',\n",
       " u'morning',\n",
       " u'stay',\n",
       " u'boyfriend',\n",
       " u'arrived',\n",
       " u'around',\n",
       " u'noon',\n",
       " u'find',\n",
       " u'wait',\n",
       " u'hour',\n",
       " u'looked',\n",
       " u'longer',\n",
       " u'willing',\n",
       " u'wait',\n",
       " u'boyfriend',\n",
       " u'went',\n",
       " u'play',\n",
       " u'waited',\n",
       " u'minutes',\n",
       " u'wait',\n",
       " u'pulled',\n",
       " u'line',\n",
       " u'table',\n",
       " u'buffet',\n",
       " u'spread',\n",
       " u'huge',\n",
       " u'chefs',\n",
       " u'cooking',\n",
       " u'food',\n",
       " u'behind',\n",
       " u'stations',\n",
       " u'food',\n",
       " u'looked',\n",
       " u'fresh',\n",
       " u'pre',\n",
       " u'portioned',\n",
       " u'didn',\n",
       " u'see',\n",
       " u'spilled',\n",
       " u'food',\n",
       " u'counters',\n",
       " u'food',\n",
       " u'amazing',\n",
       " u'loved',\n",
       " u'varieties',\n",
       " u'foods',\n",
       " u'like',\n",
       " u'lamb',\n",
       " u'leg',\n",
       " u'cut',\n",
       " u'order',\n",
       " u'front',\n",
       " u'french',\n",
       " u'toast',\n",
       " u'fresh',\n",
       " u'salad',\n",
       " u'options',\n",
       " u'stay',\n",
       " u'away',\n",
       " u'miso',\n",
       " u'soup',\n",
       " u'way',\n",
       " u'salty',\n",
       " u'course',\n",
       " u'upgrade',\n",
       " u'brunch',\n",
       " u'bottomless',\n",
       " u'mimosa',\n",
       " u'bellini',\n",
       " u'option',\n",
       " u'brunch',\n",
       " u'without',\n",
       " u'mimosas',\n",
       " u'stars',\n",
       " u'new',\n",
       " u'favorite',\n",
       " u'buffet',\n",
       " u'lv',\n",
       " u'offerings',\n",
       " u'creative',\n",
       " u'enough',\n",
       " u'keep',\n",
       " u'coming',\n",
       " u'back',\n",
       " u'creative',\n",
       " u'foreign',\n",
       " u'turns',\n",
       " u'love',\n",
       " u'serve',\n",
       " u'many',\n",
       " u'dishes',\n",
       " u'individually',\n",
       " u'portioned',\n",
       " u'items',\n",
       " u'loved',\n",
       " u'braised',\n",
       " u'short',\n",
       " u'ribs',\n",
       " u'w',\n",
       " u'creamy',\n",
       " u'polenta',\n",
       " u'kale',\n",
       " u'salad',\n",
       " u'mango',\n",
       " u'mousse',\n",
       " u'daquoise',\n",
       " u'korean',\n",
       " u'bbq',\n",
       " u'short',\n",
       " u'ribs',\n",
       " u'galbi',\n",
       " u'korean',\n",
       " u'spicy',\n",
       " u'octopus',\n",
       " u'tomato',\n",
       " u'salad',\n",
       " u'slab',\n",
       " u'bacon',\n",
       " u'yogurt',\n",
       " u'fruit',\n",
       " u'parfait',\n",
       " u'raspberry',\n",
       " u'chocolate',\n",
       " u'tart',\n",
       " u'pistachio',\n",
       " u'gelato',\n",
       " u'brunch',\n",
       " u'person',\n",
       " u'important',\n",
       " u'info',\n",
       " u'seafood',\n",
       " u'cocktail',\n",
       " u'shrimp',\n",
       " u'oysters',\n",
       " u'crab',\n",
       " u'legs',\n",
       " u'vast',\n",
       " u'gelato',\n",
       " u'selection',\n",
       " u'individually',\n",
       " u'portioned',\n",
       " u'items',\n",
       " u'fresh',\n",
       " u'clean',\n",
       " u'forget',\n",
       " u'try',\n",
       " u'mango',\n",
       " u'mousse',\n",
       " u'daquoise',\n",
       " u'offers',\n",
       " u'take',\n",
       " u'opinion',\n",
       " u'best',\n",
       " u'buffet',\n",
       " u'vegas',\n",
       " u'dinner',\n",
       " u'per',\n",
       " u'person',\n",
       " u'tax',\n",
       " u'gratuity',\n",
       " u'good',\n",
       " u'compared',\n",
       " u'larger',\n",
       " u'hotel',\n",
       " u'buffets',\n",
       " u'charge',\n",
       " u'lot',\n",
       " u'ex',\n",
       " u'wynn',\n",
       " u'per',\n",
       " u'person',\n",
       " u'gratuity',\n",
       " u've',\n",
       " u'buffet',\n",
       " u'twice',\n",
       " u'always',\n",
       " u'suggest',\n",
       " u'friends',\n",
       " u'go',\n",
       " u'vegas',\n",
       " u'trip',\n",
       " u'love',\n",
       " u'food',\n",
       " u'portioned',\n",
       " u'plus',\n",
       " u'one',\n",
       " u'buffet',\n",
       " u'one',\n",
       " u'going',\n",
       " u'fight',\n",
       " u'must',\n",
       " u'fill',\n",
       " u'plate',\n",
       " u'food',\n",
       " u'hate',\n",
       " u'food',\n",
       " u'mixes',\n",
       " u'plate',\n",
       " u'well',\n",
       " u'help',\n",
       " u'eliminate',\n",
       " u'problem',\n",
       " u'haha',\n",
       " u'people',\n",
       " u'go',\n",
       " u'wynn',\n",
       " u'alaskan',\n",
       " u'crabs',\n",
       " u'well',\n",
       " u'prefer',\n",
       " u'eat',\n",
       " u'cooked',\n",
       " u'crabs',\n",
       " u'wicked',\n",
       " u'spoon',\n",
       " u'may',\n",
       " u'large',\n",
       " u'prefer',\n",
       " u'hot',\n",
       " u'warm',\n",
       " u'cold',\n",
       " u'food',\n",
       " u'choice',\n",
       " u'doesn',\n",
       " u'seem',\n",
       " u'cooked',\n",
       " u'course',\n",
       " u'm',\n",
       " u'talking',\n",
       " u'sushi',\n",
       " u'prefer',\n",
       " u'raw',\n",
       " u'fish',\n",
       " u'cold',\n",
       " u'raw',\n",
       " u'lol',\n",
       " u'food',\n",
       " u'selection',\n",
       " u'good',\n",
       " u'dessert',\n",
       " u'selections',\n",
       " u'even',\n",
       " u'better',\n",
       " u'm',\n",
       " u'pretty',\n",
       " u'sure',\n",
       " u'girl',\n",
       " u'goes',\n",
       " u'buffet',\n",
       " u'looks',\n",
       " u'dessert',\n",
       " u'sections',\n",
       " u'way',\n",
       " u'rate',\n",
       " u'buffet',\n",
       " u'great',\n",
       " u'rating',\n",
       " u'haha',\n",
       " u'please',\n",
       " u'note',\n",
       " u'arrive',\n",
       " u'lunch',\n",
       " u'dinner',\n",
       " u'wait',\n",
       " u'dinner',\n",
       " u'pm',\n",
       " u'lol',\n",
       " u'know',\n",
       " u'find',\n",
       " u'plans',\n",
       " u'thought',\n",
       " u'late',\n",
       " u'lunch',\n",
       " u'depressing',\n",
       " u'first',\n",
       " u'meal',\n",
       " u'day',\n",
       " u'waited',\n",
       " u'long',\n",
       " u'time',\n",
       " u'food',\n",
       " u'us',\n",
       " u'next',\n",
       " u'time',\n",
       " u'go',\n",
       " u'vegas',\n",
       " u'think',\n",
       " u'stay',\n",
       " u'cosmo',\n",
       " u'grew',\n",
       " u'liking',\n",
       " u'marquee',\n",
       " u'hotel',\n",
       " u'amazing',\n",
       " u'wait',\n",
       " u'exhausted',\n",
       " u'long',\n",
       " u'day',\n",
       " u'tradeshow',\n",
       " u'ing',\n",
       " u'cab',\n",
       " u'lines',\n",
       " u'winning',\n",
       " u'million',\n",
       " u'bucks',\n",
       " u'pm',\n",
       " u'line',\n",
       " u'waiting',\n",
       " u'get',\n",
       " u'wicked',\n",
       " u'spoon',\n",
       " u'buffet',\n",
       " u'hostess',\n",
       " u'tells',\n",
       " u'us',\n",
       " u'line',\n",
       " u'shuts',\n",
       " u'pm',\n",
       " u'food',\n",
       " u'taken',\n",
       " u'away',\n",
       " u'dessert',\n",
       " u'last',\n",
       " u'go',\n",
       " u'things',\n",
       " u'getting',\n",
       " u'interesting',\n",
       " u'desperation',\n",
       " u'breeds',\n",
       " u'among',\n",
       " u'common',\n",
       " u'enemy',\n",
       " u'contend',\n",
       " u'others',\n",
       " u'diners',\n",
       " u'line',\n",
       " u'us',\n",
       " u'taking',\n",
       " u'away',\n",
       " u'precious',\n",
       " u'seconds',\n",
       " u'get',\n",
       " u'go',\n",
       " u'stay',\n",
       " u'able',\n",
       " u'get',\n",
       " u'another',\n",
       " u'restaurant',\n",
       " u'still',\n",
       " u'open',\n",
       " u'long',\n",
       " u'sustain',\n",
       " u'dropping',\n",
       " u'dead',\n",
       " u'hunger',\n",
       " u'decisions',\n",
       " u'made',\n",
       " u'man',\n",
       " u'alone',\n",
       " u'stayed',\n",
       " u'got',\n",
       " u'pm',\n",
       " u'take',\n",
       " u'vegas',\n",
       " u'odds',\n",
       " u'naturally',\n",
       " u'split',\n",
       " u'focused',\n",
       " u'desperate',\n",
       " u'intent',\n",
       " u'grab',\n",
       " u'two',\n",
       " u'plates',\n",
       " u'skip',\n",
       " u'pasta',\n",
       " u'carbs',\n",
       " u'kidding',\n",
       " u'guy',\n",
       " u'knows',\n",
       " u'drill',\n",
       " u'crab',\n",
       " u'legs',\n",
       " u'chunks',\n",
       " u'sashimi',\n",
       " u'pass',\n",
       " u'california',\n",
       " u'rolls',\n",
       " u'bone',\n",
       " u'marrow',\n",
       " u'mind',\n",
       " u'grab',\n",
       " u'chunk',\n",
       " u'fudge',\n",
       " u'dessert',\n",
       " u'bar',\n",
       " u'give',\n",
       " u'buffeting',\n",
       " u'energy',\n",
       " u'load',\n",
       " u'fresh',\n",
       " u'fish',\n",
       " u'truffle',\n",
       " u'potatoes',\n",
       " u'win',\n",
       " u'finally',\n",
       " u'carving',\n",
       " u'station',\n",
       " u'tri',\n",
       " u'tip',\n",
       " u'prime',\n",
       " u'rib',\n",
       " u'lamb',\n",
       " u'leg',\n",
       " u'smother',\n",
       " u'chimicurri',\n",
       " u'horseradish',\n",
       " u'onion',\n",
       " u'confit',\n",
       " u'load',\n",
       " u'whatever',\n",
       " u'else',\n",
       " u'grab',\n",
       " u'hands',\n",
       " u'whilst',\n",
       " u'balancing',\n",
       " u'two',\n",
       " u'plates',\n",
       " u'first',\n",
       " u'round',\n",
       " u'gorged',\n",
       " u'sighed',\n",
       " u'devoured',\n",
       " u'time',\n",
       " u'get',\n",
       " u'real',\n",
       " u'business',\n",
       " u'time',\n",
       " u'seconds',\n",
       " u'games',\n",
       " u'tri',\n",
       " u'tip',\n",
       " u'prime',\n",
       " u'rib',\n",
       " u'bit',\n",
       " u'hummus',\n",
       " u'sometimes',\n",
       " u'man',\n",
       " u'needs',\n",
       " u'hummus',\n",
       " u'pm',\n",
       " u'friends',\n",
       " u'caving',\n",
       " u'pressure',\n",
       " u'start',\n",
       " u'swarm',\n",
       " u'dessert',\n",
       " u'station',\n",
       " u'get',\n",
       " u'omelet',\n",
       " u'pm',\n",
       " u'got',\n",
       " u'dessert',\n",
       " u'tom',\n",
       " u'cruise',\n",
       " u'style',\n",
       " u'little',\n",
       " u'crazy',\n",
       " u'little',\n",
       " u'close',\n",
       " u'deny',\n",
       " u'excitement',\n",
       " u'isn',\n",
       " u'first',\n",
       " u'rodeo',\n",
       " u'know',\n",
       " u'ends',\n",
       " u'ends',\n",
       " u'coffee',\n",
       " u'tiramisu',\n",
       " u'gelato',\n",
       " u'fudge',\n",
       " u'chocolate',\n",
       " u'mousse',\n",
       " u'strawberry',\n",
       " u'covered',\n",
       " u'chocolate',\n",
       " u'best',\n",
       " u'buffet',\n",
       " u've',\n",
       " u'vegas',\n",
       " u'large',\n",
       " u'groups',\n",
       " u'require',\n",
       " u'gratuity',\n",
       " u'payment',\n",
       " u'doesn',\n",
       " u'quite',\n",
       " u'make',\n",
       " u'sense',\n",
       " u'buffet',\n",
       " u'oh',\n",
       " u'well',\n",
       " u'food',\n",
       " u'makes',\n",
       " u'everything',\n",
       " u'plated',\n",
       " u'beautifully',\n",
       " u'many',\n",
       " u'different',\n",
       " u'variety',\n",
       " u'food',\n",
       " u'desserts',\n",
       " u'oh',\n",
       " u'goodness',\n",
       " u'ate',\n",
       " u'worth',\n",
       " u'food',\n",
       " u'right',\n",
       " u'many',\n",
       " u'different',\n",
       " u'flavors',\n",
       " u'gelato',\n",
       " u'hubby',\n",
       " u'went',\n",
       " u'wicked',\n",
       " u'spoon',\n",
       " u'past',\n",
       " u'weekend',\n",
       " u'food',\n",
       " u'really',\n",
       " u'good',\n",
       " u'well',\n",
       " u'price',\n",
       " u'must',\n",
       " u'save',\n",
       " u'room',\n",
       " u'dessert',\n",
       " u'outstanding',\n",
       " u'especially',\n",
       " u'chocolate',\n",
       " u'bowl',\n",
       " u'berries',\n",
       " u'inside',\n",
       " u'thing',\n",
       " u'like',\n",
       " u'seen',\n",
       " u'salad',\n",
       " u'bar',\n",
       " u'make',\n",
       " u'salad',\n",
       " u'salads',\n",
       " u'already',\n",
       " u'made',\n",
       " u'overall',\n",
       " u'good',\n",
       " u'buffet',\n",
       " u'fan',\n",
       " u'anymore',\n",
       " u'epic',\n",
       " u'battle',\n",
       " u'top',\n",
       " u'buffets',\n",
       " u'vegas',\n",
       " u'wicked',\n",
       " u'spoon',\n",
       " u'officially',\n",
       " u'fell',\n",
       " u'use',\n",
       " u'go',\n",
       " u'buffet',\n",
       " u'last',\n",
       " u'trip',\n",
       " u'much',\n",
       " u'salt',\n",
       " u'seems',\n",
       " u'laid',\n",
       " u'food',\n",
       " u'someone',\n",
       " u'bucket',\n",
       " u'salt',\n",
       " u'sprinkle',\n",
       " u'everything',\n",
       " u'missed',\n",
       " u'couple',\n",
       " u'dishes',\n",
       " u'meaning',\n",
       " u'seasoned',\n",
       " u'didn',\n",
       " u'taste',\n",
       " u'like',\n",
       " u'anything',\n",
       " u'butcher',\n",
       " u'ban',\n",
       " u'mai',\n",
       " u'clams',\n",
       " u'white',\n",
       " u'wine',\n",
       " u'sauce',\n",
       " u'overcooked',\n",
       " u'needed',\n",
       " u'seasoning',\n",
       " u'canadian',\n",
       " u'bacon',\n",
       " u'seemed',\n",
       " u'cooked',\n",
       " u'salt',\n",
       " u'dipped',\n",
       " u'salt',\n",
       " u'cut',\n",
       " u'salt',\n",
       " u'added',\n",
       " u'two',\n",
       " u'stars',\n",
       " u'pastry',\n",
       " u'chef',\n",
       " u'seems',\n",
       " u'always',\n",
       " u'point',\n",
       " u'strawberries',\n",
       " u'used',\n",
       " u'chocolate',\n",
       " u'covered',\n",
       " u'strawberries',\n",
       " u'sweet',\n",
       " u'cheesecake',\n",
       " u'amazing',\n",
       " u'thai',\n",
       " u'ice',\n",
       " u'tea',\n",
       " u'gelato',\n",
       " u'another',\n",
       " u'highlight',\n",
       " u'overall',\n",
       " u'desserts',\n",
       " u'couldn',\n",
       " u'make',\n",
       " u'horrible',\n",
       " u'food',\n",
       " u'doesn',\n",
       " u'look',\n",
       " u'like',\n",
       " u'm',\n",
       " u'coming',\n",
       " u'back',\n",
       " u'chefs',\n",
       " u'wicked',\n",
       " u'spoon',\n",
       " u'please',\n",
       " u'taste',\n",
       " u'food',\n",
       " u'send',\n",
       " u'sehr',\n",
       " u'gutes',\n",
       " u'buffet',\n",
       " u'allerdings',\n",
       " u'wirklich',\n",
       " u'ein',\n",
       " u'brunch',\n",
       " u'buffet',\n",
       " u'und',\n",
       " u'kein',\n",
       " u'normales',\n",
       " u'fr\\xfchst\\xfcck',\n",
       " u'unbedingt',\n",
       " u'mindestens',\n",
       " u'ein',\n",
       " u'mal',\n",
       " u'ausprobieren',\n",
       " u'came',\n",
       " u'brunch',\n",
       " u'overall',\n",
       " u'disappointing',\n",
       " u'experience',\n",
       " u'cosmopolitan',\n",
       " u'buffet',\n",
       " u'pretty',\n",
       " u'much',\n",
       " u'mehhhhh',\n",
       " u'salads',\n",
       " u'pretty',\n",
       " u'good',\n",
       " u'cheese',\n",
       " u'selection',\n",
       " u'nice',\n",
       " u'concept',\n",
       " u'serving',\n",
       " u'entrees',\n",
       " u'small',\n",
       " u'individual',\n",
       " u'pots',\n",
       " u'spoons',\n",
       " u'cute',\n",
       " u'contents',\n",
       " u'said',\n",
       " u'pots',\n",
       " u'nothing',\n",
       " u'special',\n",
       " u've',\n",
       " u'always',\n",
       " u'said',\n",
       " u'never',\n",
       " u'good',\n",
       " u'idea',\n",
       " u'get',\n",
       " ...]"
      ]
     },
     "execution_count": 64,
     "metadata": {},
     "output_type": "execute_result"
    }
   ],
   "source": [
    "biz_list = [item for sublist in review_words2.select('filtered').collect() for item in sublist.filtered]\n",
    "biz_list"
   ]
  },
  {
   "cell_type": "code",
   "execution_count": 65,
   "metadata": {},
   "outputs": [
    {
     "data": {
      "image/png": "[encoded data removed]",
      "text/plain": [
       "<matplotlib.figure.Figure at 0x110c71d90>"
      ]
     },
     "metadata": {},
     "output_type": "display_data"
    }
   ],
   "source": [
    "from collections import Counter\n",
    "ctr = Counter(biz_list)\n",
    "\n",
    "from wordcloud import WordCloud\n",
    "import matplotlib.pyplot as plt\n",
    "\n",
    "wordcloud = WordCloud()\n",
    "wordcloud.fit_words(ctr)\n",
    "\n",
    "fig=plt.figure(figsize=(5, 3))   # Prepare a plot 5x3 inches\n",
    "plt.imshow(wordcloud)\n",
    "plt.axis(\"off\")\n",
    "plt.show()"
   ]
  },
  {
   "cell_type": "code",
   "execution_count": null,
   "metadata": {
    "collapsed": true
   },
   "outputs": [],
   "source": []
  },
  {
   "cell_type": "code",
   "execution_count": null,
   "metadata": {
    "collapsed": true
   },
   "outputs": [],
   "source": []
  },
  {
   "cell_type": "code",
   "execution_count": null,
   "metadata": {
    "collapsed": true
   },
   "outputs": [],
   "source": []
  },
  {
   "cell_type": "code",
   "execution_count": null,
   "metadata": {
    "collapsed": true
   },
   "outputs": [],
   "source": []
  },
  {
   "cell_type": "code",
   "execution_count": null,
   "metadata": {
    "collapsed": true
   },
   "outputs": [],
   "source": []
  },
  {
   "cell_type": "code",
   "execution_count": 12,
   "metadata": {},
   "outputs": [
    {
     "name": "stdout",
     "output_type": "stream",
     "text": [
      "+-----------+-----+\n",
      "|city       |count|\n",
      "+-----------+-----+\n",
      "|Las Vegas  |24768|\n",
      "|Phoenix    |15656|\n",
      "|Toronto    |15483|\n",
      "|Charlotte  |7557 |\n",
      "|Scottsdale |7510 |\n",
      "|Pittsburgh |5688 |\n",
      "|Montréal   |5175 |\n",
      "|Mesa       |5146 |\n",
      "|Henderson  |4130 |\n",
      "|Tempe      |3949 |\n",
      "|Chandler   |3649 |\n",
      "|Edinburgh  |3625 |\n",
      "|Cleveland  |2979 |\n",
      "|Madison    |2891 |\n",
      "|Glendale   |2841 |\n",
      "|Gilbert    |2835 |\n",
      "|Mississauga|2316 |\n",
      "|Stuttgart  |1975 |\n",
      "|Peoria     |1527 |\n",
      "|Markham    |1390 |\n",
      "+-----------+-----+\n",
      "only showing top 20 rows\n",
      "\n"
     ]
    }
   ],
   "source": [
    "biz_raw.select('city').groupBy('city').count().sort('count', ascending=False).show(truncate=False)"
   ]
  },
  {
   "cell_type": "code",
   "execution_count": null,
   "metadata": {
    "collapsed": true
   },
   "outputs": [],
   "source": []
  },
  {
   "cell_type": "code",
   "execution_count": null,
   "metadata": {
    "collapsed": true
   },
   "outputs": [],
   "source": []
  },
  {
   "cell_type": "code",
   "execution_count": null,
   "metadata": {
    "collapsed": true
   },
   "outputs": [],
   "source": []
  },
  {
   "cell_type": "code",
   "execution_count": 6,
   "metadata": {
    "collapsed": true
   },
   "outputs": [],
   "source": [
    "full_DF = review_raw.select('business_id', 'text','stars').join(id_name_DF,'business_id','inner')"
   ]
  },
  {
   "cell_type": "code",
   "execution_count": 8,
   "metadata": {},
   "outputs": [
    {
     "name": "stdout",
     "output_type": "stream",
     "text": [
      "+--------------------+--------------------+-----+--------------------+\n",
      "|         business_id|                text|stars|                name|\n",
      "+--------------------+--------------------+-----+--------------------+\n",
      "|--9e1ONYQuAa-CB_R...|What can I say.. ...|    5|Delmonico Steakhouse|\n",
      "|--9e1ONYQuAa-CB_R...|We went in with h...|    2|Delmonico Steakhouse|\n",
      "|--9e1ONYQuAa-CB_R...|I want to give th...|    3|Delmonico Steakhouse|\n",
      "|--9e1ONYQuAa-CB_R...|Went here for guy...|    5|Delmonico Steakhouse|\n",
      "|--9e1ONYQuAa-CB_R...|One word my frien...|    5|Delmonico Steakhouse|\n",
      "|--9e1ONYQuAa-CB_R...|We tried their Fr...|    3|Delmonico Steakhouse|\n",
      "|--9e1ONYQuAa-CB_R...|I've never had a ...|    5|Delmonico Steakhouse|\n",
      "|--9e1ONYQuAa-CB_R...|Truffle and Parm ...|    4|Delmonico Steakhouse|\n",
      "|--9e1ONYQuAa-CB_R...|Located inside my...|    3|Delmonico Steakhouse|\n",
      "|--9e1ONYQuAa-CB_R...|As far as steakho...|    4|Delmonico Steakhouse|\n",
      "|--9e1ONYQuAa-CB_R...|After the most in...|    5|Delmonico Steakhouse|\n",
      "|--9e1ONYQuAa-CB_R...|Pork Chops looked...|    3|Delmonico Steakhouse|\n",
      "|--9e1ONYQuAa-CB_R...|Exceptional...exc...|    5|Delmonico Steakhouse|\n",
      "|--9e1ONYQuAa-CB_R...|Went there for th...|    2|Delmonico Steakhouse|\n",
      "|--9e1ONYQuAa-CB_R...|Service was fanta...|    3|Delmonico Steakhouse|\n",
      "|--9e1ONYQuAa-CB_R...|I am going to pre...|    4|Delmonico Steakhouse|\n",
      "|--9e1ONYQuAa-CB_R...|We were very disa...|    1|Delmonico Steakhouse|\n",
      "|--9e1ONYQuAa-CB_R...|We started off wi...|    3|Delmonico Steakhouse|\n",
      "|--9e1ONYQuAa-CB_R...|Fabulous! This pl...|    5|Delmonico Steakhouse|\n",
      "|--9e1ONYQuAa-CB_R...|They are known fo...|    4|Delmonico Steakhouse|\n",
      "+--------------------+--------------------+-----+--------------------+\n",
      "only showing top 20 rows\n",
      "\n"
     ]
    }
   ],
   "source": [
    "full_DF.show()"
   ]
  },
  {
   "cell_type": "code",
   "execution_count": 9,
   "metadata": {},
   "outputs": [
    {
     "data": {
      "text/plain": [
       "DataFrame[business_id: string, text: string, stars: bigint, name: string]"
      ]
     },
     "execution_count": 9,
     "metadata": {},
     "output_type": "execute_result"
    }
   ],
   "source": [
    "full_DF.persist()"
   ]
  },
  {
   "cell_type": "code",
   "execution_count": 9,
   "metadata": {},
   "outputs": [
    {
     "data": {
      "text/plain": [
       "4324067"
      ]
     },
     "execution_count": 9,
     "metadata": {},
     "output_type": "execute_result"
    }
   ],
   "source": [
    "full_DF.count()"
   ]
  },
  {
   "cell_type": "code",
   "execution_count": null,
   "metadata": {
    "collapsed": true
   },
   "outputs": [],
   "source": []
  }
 ],
 "metadata": {
  "kernelspec": {
   "display_name": "Python 2",
   "language": "python",
   "name": "python2"
  },
  "language_info": {
   "codemirror_mode": {
    "name": "ipython",
    "version": 2
   },
   "file_extension": ".py",
   "mimetype": "text/x-python",
   "name": "python",
   "nbconvert_exporter": "python",
   "pygments_lexer": "ipython2",
   "version": "2.7.11"
  }
 },
 "nbformat": 4,
 "nbformat_minor": 2
}
