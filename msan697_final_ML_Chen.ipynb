{
 "cells": [
  {
   "cell_type": "code",
   "execution_count": 32,
   "metadata": {
    "collapsed": true
   },
   "outputs": [],
   "source": [
    "from pyspark import SparkContext\n",
    "sc = SparkContext.getOrCreate()"
   ]
  },
  {
   "cell_type": "code",
   "execution_count": 33,
   "metadata": {},
   "outputs": [
    {
     "data": {
      "text/html": [
       "\n",
       "        <div>\n",
       "            <p><b>SparkContext</b></p>\n",
       "\n",
       "            <p><a href=\"http://ip-172-31-41-129.us-west-2.compute.internal:4040\">Spark UI</a></p>\n",
       "\n",
       "            <dl>\n",
       "              <dt>Version</dt>\n",
       "                <dd><code>v2.2.1</code></dd>\n",
       "              <dt>Master</dt>\n",
       "                <dd><code>yarn</code></dd>\n",
       "              <dt>AppName</dt>\n",
       "                <dd><code>PySparkShell</code></dd>\n",
       "            </dl>\n",
       "        </div>\n",
       "        "
      ],
      "text/plain": [
       "<SparkContext master=yarn appName=PySparkShell>"
      ]
     },
     "execution_count": 33,
     "metadata": {},
     "output_type": "execute_result"
    }
   ],
   "source": [
    "sc"
   ]
  },
  {
   "cell_type": "code",
   "execution_count": null,
   "metadata": {
    "collapsed": true
   },
   "outputs": [],
   "source": [
    "from pyspark.sql.functions import udf\n",
    "import string\n",
    "import re\n",
    "from pyspark.ml.feature import Tokenizer,StopWordsRemover\n",
    "from pyspark.ml import Pipeline, PipelineModel"
   ]
  },
  {
   "cell_type": "code",
   "execution_count": 34,
   "metadata": {
    "collapsed": true
   },
   "outputs": [],
   "source": [
    "review_raw =spark.read.format(\"com.mongodb.spark.sql.DefaultSource\").option(\"uri\",\"mongodb://ec2-34-216-224-27.us-west-2.compute.amazonaws.com/project.review\").load()"
   ]
  },
  {
   "cell_type": "code",
   "execution_count": 35,
   "metadata": {
    "collapsed": true
   },
   "outputs": [],
   "source": [
    "review = review_raw.select('text','stars')\n",
    "review_sub = review.sample(False, 0.05, 1)\n",
    "review_neg = review_sub.filter(\"stars<3\").select(\"text\")\n",
    "review_pos = review_sub.filter(\"stars>=4\").select(\"text\")"
   ]
  },
  {
   "cell_type": "code",
   "execution_count": 13,
   "metadata": {
    "collapsed": true
   },
   "outputs": [],
   "source": [
    "def remove_num_punct(text):\n",
    "    text = text.lower()\n",
    "    my_string = text.replace(\"-\", \" \")\n",
    "    regex = re.compile('[' + re.escape(string.punctuation) + '0-9\\\\r\\\\t\\\\n]')\n",
    "    nopunct = regex.sub(\" \", my_string)  # delete stuff but leave at least a space to avoid clumping together\n",
    "    return nopunct\n",
    "\n",
    "udf_num_punct = udf(lambda x:remove_num_punct(x))"
   ]
  },
  {
   "cell_type": "code",
   "execution_count": 25,
   "metadata": {
    "collapsed": true
   },
   "outputs": [],
   "source": [
    "def bi_gram(words):\n",
    "    words = [w for w in words if len(w) > 0]\n",
    "    bigram = [\" \".join([words[i],words[i+1]])for i in range(len(words)-1)]\n",
    "    return bigram"
   ]
  },
  {
   "cell_type": "code",
   "execution_count": 40,
   "metadata": {
    "collapsed": true
   },
   "outputs": [],
   "source": [
    "def tri_gram(words):\n",
    "    words = [w for w in words if len(w) > 0]\n",
    "    trigram = [\" \".join([words[i],words[i+1],words[i+2]])for i in range(len(words)-2)]\n",
    "    return trigram"
   ]
  },
  {
   "cell_type": "code",
   "execution_count": 17,
   "metadata": {
    "collapsed": true
   },
   "outputs": [],
   "source": [
    "tokenizer = Tokenizer(inputCol=\"text\", outputCol=\"words\")\n",
    "remover = StopWordsRemover(inputCol=\"words\", outputCol=\"filtered\", caseSensitive=False)\n",
    "pipeline=Pipeline(stages=[tokenizer,remover])"
   ]
  },
  {
   "cell_type": "markdown",
   "metadata": {},
   "source": [
    "## Positive Review"
   ]
  },
  {
   "cell_type": "code",
   "execution_count": 21,
   "metadata": {
    "collapsed": true
   },
   "outputs": [
    {
     "name": "stdout",
     "output_type": "stream",
     "text": [
      "+--------------------+\n",
      "|            filtered|\n",
      "+--------------------+\n",
      "|[location, everyt...|\n",
      "|[, st, , place, c...|\n",
      "|[went, dinner, pe...|\n",
      "|[love, food, cont...|\n",
      "|[service, great, ...|\n",
      "|[downside, place,...|\n",
      "|[hear, couple, ti...|\n",
      "|[one, great, las,...|\n",
      "|[first, visit, ev...|\n",
      "|[great, scenery, ...|\n",
      "|[today, another, ...|\n",
      "|[yum, , good, foo...|\n",
      "|[really, good, sa...|\n",
      "|[small, restauran...|\n",
      "|[clean, friendly,...|\n",
      "|[walked, scrubs, ...|\n",
      "|[craving, authent...|\n",
      "|[mi, pueblo, best...|\n",
      "|[food, tasty, , g...|\n",
      "|[place, great, , ...|\n",
      "+--------------------+\n",
      "only showing top 20 rows\n",
      "\n"
     ]
    }
   ],
   "source": [
    "review_pos = review_pos.select(udf_num_punct('text').alias('text'))\n",
    "pos_words=pipeline.fit(review_pos).transform(review_pos).select(\"filtered\")\n",
    "pos_rdd= pos_words.rdd.map(list).map(lambda x:x[0]).cache()"
   ]
  },
  {
   "cell_type": "code",
   "execution_count": null,
   "metadata": {
    "collapsed": true
   },
   "outputs": [],
   "source": [
    "pos_uni=pos_rdd.flatMap(lambda words: [w for w in words if len(w) > 0])\n",
    "top_pos_uni = pos_uni.map(lambda x: (x,1)).reduceByKey(lambda x,y: x+y).sortBy(lambda x: x[1], ascending=False)\n",
    "top_pos_uni.collect()[0:20]"
   ]
  },
  {
   "cell_type": "code",
   "execution_count": 30,
   "metadata": {
    "collapsed": true
   },
   "outputs": [
    {
     "data": {
      "text/plain": [
       "[(u'highly_recommend', 7745),\n",
       " (u'first_time', 6614),\n",
       " (u'customer_service', 5770),\n",
       " (u'really_good', 5609),\n",
       " (u'come_back', 5473),\n",
       " (u'go_back', 5378),\n",
       " (u'great_place', 4864),\n",
       " (u'las_vegas', 4806),\n",
       " (u'great_service', 4780),\n",
       " (u'love_place', 4540),\n",
       " (u'next_time', 4426),\n",
       " (u've_ever', 4367),\n",
       " (u'great_food', 4345),\n",
       " (u'ice_cream', 4315),\n",
       " (u'every_time', 3878),\n",
       " (u'make_sure', 3837),\n",
       " (u'one_best', 3792),\n",
       " (u'staff_friendly', 3720),\n",
       " (u'food_great', 3713),\n",
       " (u'service_great', 3660),\n",
       " (u'happy_hour', 3613),\n",
       " (u'pretty_good', 3598),\n",
       " (u'food_good', 3429),\n",
       " (u'good_food', 3245),\n",
       " (u'coming_back', 2893),\n",
       " (u'feel_like', 2884),\n",
       " (u'even_though', 2857),\n",
       " (u'definitely_back', 2765),\n",
       " (u'definitely_recommend', 2634),\n",
       " (u'friendly_staff', 2518)]"
      ]
     },
     "execution_count": 30,
     "metadata": {},
     "output_type": "execute_result"
    }
   ],
   "source": [
    "pos_bi= pos_rdd.flatMap(lambda x: bi_gram(x))\n",
    "top_pos_bi = pos_bi.map(lambda x: (x,1)).reduceByKey(lambda x,y: x+y).sortBy(lambda x: x[1], ascending=False)\n",
    "top_pos_bi.collect()[0:20]"
   ]
  },
  {
   "cell_type": "markdown",
   "metadata": {},
   "source": [
    "pos_tri= pos_rdd.flatMap(lambda x: bi_gram(x))\n",
    "top_pos_tri = pos_tri.map(lambda x: (x,1)).reduceByKey(lambda x,y: x+y).sortBy(lambda x: x[1], ascending=False)\n",
    "top_pos_tri.collect()[0:20]"
   ]
  },
  {
   "cell_type": "markdown",
   "metadata": {},
   "source": [
    "## Negative Review"
   ]
  },
  {
   "cell_type": "code",
   "execution_count": null,
   "metadata": {
    "collapsed": true
   },
   "outputs": [],
   "source": [
    "review_neg = review_neg.select(udf_num_punct('text').alias('text'))\n",
    "neg_words=pipeline.fit(review_neg).transform(review_neg).select(\"filtered\")\n",
    "neg_rdd= neg_words.rdd.map(list).map(lambda x:x[0]).cache()"
   ]
  },
  {
   "cell_type": "code",
   "execution_count": null,
   "metadata": {
    "collapsed": true
   },
   "outputs": [],
   "source": [
    "neg_uni=neg_rdd.flatMap(lambda words: [w for w in words if len(w) > 0])\n",
    "top_neg_uni = neg_uni.map(lambda x: (x,1)).reduceByKey(lambda x,y: x+y).sortBy(lambda x: x[1], ascending=False)\n",
    "top_neg_uni.collect()[0:20]"
   ]
  },
  {
   "cell_type": "code",
   "execution_count": null,
   "metadata": {
    "collapsed": true
   },
   "outputs": [],
   "source": [
    "neg_bi= neg_rdd.flatMap(lambda x: bi_gram(x))\n",
    "top_neg_bi = neg_bi.map(lambda x: (x,1)).reduceByKey(lambda x,y: x+y).sortBy(lambda x: x[1], ascending=False)\n",
    "top_neg_bi.collect()[0:20]"
   ]
  },
  {
   "cell_type": "code",
   "execution_count": 41,
   "metadata": {},
   "outputs": [
    {
     "data": {
      "text/plain": [
       "[(u'never_go_back', 770),\n",
       " (u'go_somewhere_else', 404),\n",
       " (u'worst_customer_service', 377),\n",
       " (u'never_come_back', 330),\n",
       " (u'poor_customer_service', 323),\n",
       " (u'horrible_customer_service', 322),\n",
       " (u'won_going_back', 313),\n",
       " (u'waste_time_money', 256),\n",
       " (u'long_story_short', 245),\n",
       " (u'never_going_back', 229),\n",
       " (u'terrible_customer_service', 219),\n",
       " (u'worst_service_ever', 213),\n",
       " (u'worst_experience_ever', 194),\n",
       " (u'give_zero_stars', 192),\n",
       " (u'customer_service_ever', 190),\n",
       " (u'won_coming_back', 189),\n",
       " (u'really_wanted_like', 186),\n",
       " (u'wanted_like_place', 183),\n",
       " (u'bad_customer_service', 174),\n",
       " (u'never_coming_back', 174),\n",
       " (u'recommend_place_anyone', 170),\n",
       " (u'took_minutes_get', 168),\n",
       " (u'won_go_back', 167),\n",
       " (u'm_pretty_sure', 166),\n",
       " (u'good_customer_service', 163),\n",
       " (u'nothing_write_home', 162),\n",
       " (u'food_good_service', 161),\n",
       " (u'asked_speak_manager', 153),\n",
       " (u'didn_even_get', 150),\n",
       " (u'customer_service_skills', 148)]"
      ]
     },
     "execution_count": 41,
     "metadata": {},
     "output_type": "execute_result"
    }
   ],
   "source": [
    "neg_tri= neg_rdd.flatMap(lambda x: tri_gram(x))\n",
    "top_neg_tri = neg_tri.map(lambda x: (x,1)).reduceByKey(lambda x,y: x+y).sortBy(lambda x: x[1], ascending=False)\n",
    "top_neg_tri.collect()[0:20]"
   ]
  },
  {
   "cell_type": "code",
   "execution_count": null,
   "metadata": {
    "collapsed": true
   },
   "outputs": [],
   "source": []
  }
 ],
 "metadata": {
  "kernelspec": {
   "display_name": "Python 2",
   "language": "python",
   "name": "python2"
  },
  "language_info": {
   "codemirror_mode": {
    "name": "ipython",
    "version": 2
   },
   "file_extension": ".py",
   "mimetype": "text/x-python",
   "name": "python",
   "nbconvert_exporter": "python",
   "pygments_lexer": "ipython2",
   "version": "2.7.13"
  }
 },
 "nbformat": 4,
 "nbformat_minor": 2
}
