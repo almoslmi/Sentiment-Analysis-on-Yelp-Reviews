{
 "cells": [
  {
   "cell_type": "code",
   "execution_count": 1,
   "metadata": {
    "collapsed": true
   },
   "outputs": [],
   "source": [
    "from pyspark import SparkContext\n",
    "sc = SparkContext.getOrCreate()"
   ]
  },
  {
   "cell_type": "code",
   "execution_count": 2,
   "metadata": {},
   "outputs": [
    {
     "data": {
      "text/html": [
       "\n",
       "        <div>\n",
       "            <p><b>SparkContext</b></p>\n",
       "\n",
       "            <p><a href=\"http://10.1.133.44:4040\">Spark UI</a></p>\n",
       "\n",
       "            <dl>\n",
       "              <dt>Version</dt>\n",
       "                <dd><code>v2.2.0</code></dd>\n",
       "              <dt>Master</dt>\n",
       "                <dd><code>local[*]</code></dd>\n",
       "              <dt>AppName</dt>\n",
       "                <dd><code>PySparkShell</code></dd>\n",
       "            </dl>\n",
       "        </div>\n",
       "        "
      ],
      "text/plain": [
       "<SparkContext master=local[*] appName=PySparkShell>"
      ]
     },
     "execution_count": 2,
     "metadata": {},
     "output_type": "execute_result"
    }
   ],
   "source": [
    "sc"
   ]
  },
  {
   "cell_type": "code",
   "execution_count": 3,
   "metadata": {
    "collapsed": true
   },
   "outputs": [],
   "source": [
    "from pyspark.sql.functions import udf\n",
    "import string\n",
    "import re\n",
    "from pyspark.ml.feature import Tokenizer,StopWordsRemover\n",
    "from pyspark.ml import Pipeline, PipelineModel"
   ]
  },
  {
   "cell_type": "code",
   "execution_count": 7,
   "metadata": {},
   "outputs": [],
   "source": [
    "review_raw = spark.read.json(\"/Users/Grace/desktop/msan/msan697/dataset/review.json\")"
   ]
  },
  {
   "cell_type": "code",
   "execution_count": 34,
   "metadata": {
    "collapsed": true
   },
   "outputs": [],
   "source": [
    "#review_raw =spark.read.format(\"com.mongodb.spark.sql.DefaultSource\").option(\"uri\",\"mongodb://ec2-34-216-224-27.us-west-2.compute.amazonaws.com/project.review\").load()"
   ]
  },
  {
   "cell_type": "code",
   "execution_count": 8,
   "metadata": {
    "collapsed": true
   },
   "outputs": [],
   "source": [
    "review = review_raw.select('text','stars')\n",
    "review_sub = review.sample(False, 0.01, 1)\n",
    "review_neg = review_sub.filter(\"stars<3\").select(\"text\")\n",
    "review_pos = review_sub.filter(\"stars>=4\").select(\"text\")"
   ]
  },
  {
   "cell_type": "code",
   "execution_count": 9,
   "metadata": {
    "collapsed": true
   },
   "outputs": [],
   "source": [
    "def remove_num_punct(text):\n",
    "    text = text.lower()\n",
    "    my_string = text.replace(\"-\", \" \")\n",
    "    regex = re.compile('[' + re.escape(string.punctuation) + '0-9\\\\r\\\\t\\\\n]')\n",
    "    nopunct = regex.sub(\" \", my_string)  # delete stuff but leave at least a space to avoid clumping together\n",
    "    return nopunct\n",
    "\n",
    "udf_num_punct = udf(lambda x:remove_num_punct(x))"
   ]
  },
  {
   "cell_type": "code",
   "execution_count": 10,
   "metadata": {
    "collapsed": true
   },
   "outputs": [],
   "source": [
    "def bi_gram(words):\n",
    "    words = [w for w in words if len(w) > 0]\n",
    "    bigram = [\" \".join([words[i],words[i+1]])for i in range(len(words)-1)]\n",
    "    return bigram"
   ]
  },
  {
   "cell_type": "code",
   "execution_count": 11,
   "metadata": {
    "collapsed": true
   },
   "outputs": [],
   "source": [
    "def tri_gram(words):\n",
    "    words = [w for w in words if len(w) > 0]\n",
    "    trigram = [\" \".join([words[i],words[i+1],words[i+2]])for i in range(len(words)-2)]\n",
    "    return trigram"
   ]
  },
  {
   "cell_type": "code",
   "execution_count": 12,
   "metadata": {
    "collapsed": true
   },
   "outputs": [],
   "source": [
    "tokenizer = Tokenizer(inputCol=\"text\", outputCol=\"words\")\n",
    "remover = StopWordsRemover(inputCol=\"words\", outputCol=\"filtered\", caseSensitive=False)\n",
    "pipeline=Pipeline(stages=[tokenizer,remover])"
   ]
  },
  {
   "cell_type": "markdown",
   "metadata": {},
   "source": [
    "## Positive Review"
   ]
  },
  {
   "cell_type": "code",
   "execution_count": 13,
   "metadata": {
    "collapsed": true
   },
   "outputs": [],
   "source": [
    "review_pos = review_pos.select(udf_num_punct('text').alias('text'))\n",
    "pos_words=pipeline.fit(review_pos).transform(review_pos).select(\"filtered\")\n",
    "pos_rdd= pos_words.rdd.map(list).map(lambda x:x[0]).cache()"
   ]
  },
  {
   "cell_type": "code",
   "execution_count": 14,
   "metadata": {},
   "outputs": [
    {
     "data": {
      "text/plain": [
       "[(u'great', 17113),\n",
       " (u'good', 15245),\n",
       " (u'place', 15176),\n",
       " (u'food', 14014),\n",
       " (u'service', 9924),\n",
       " (u'time', 9713),\n",
       " (u'like', 9644),\n",
       " (u'one', 9004),\n",
       " (u'get', 8778),\n",
       " (u'really', 7845),\n",
       " (u'go', 7744),\n",
       " (u'back', 7718),\n",
       " (u'also', 7211),\n",
       " (u'best', 6767),\n",
       " (u've', 6548),\n",
       " (u'love', 6305),\n",
       " (u'always', 6182),\n",
       " (u'nice', 6067),\n",
       " (u'well', 5884),\n",
       " (u'friendly', 5722)]"
      ]
     },
     "execution_count": 14,
     "metadata": {},
     "output_type": "execute_result"
    }
   ],
   "source": [
    "pos_uni=pos_rdd.flatMap(lambda words: [w for w in words if len(w) > 0])\n",
    "top_pos_uni = pos_uni.map(lambda x: (x,1)).reduceByKey(lambda x,y: x+y).sortBy(lambda x: x[1], ascending=False)\n",
    "top_pos_uni.collect()[0:20]"
   ]
  },
  {
   "cell_type": "code",
   "execution_count": 15,
   "metadata": {},
   "outputs": [
    {
     "data": {
      "text/plain": [
       "[(u'highly recommend', 1559),\n",
       " (u'first time', 1261),\n",
       " (u'customer service', 1094),\n",
       " (u'really good', 1072),\n",
       " (u'go back', 1065),\n",
       " (u'come back', 1064),\n",
       " (u'great place', 941),\n",
       " (u'great service', 939),\n",
       " (u'las vegas', 931),\n",
       " (u'ice cream', 890),\n",
       " (u'next time', 871),\n",
       " (u'love place', 870),\n",
       " (u'great food', 867),\n",
       " (u've ever', 834),\n",
       " (u'every time', 798),\n",
       " (u'one best', 774),\n",
       " (u'staff friendly', 767),\n",
       " (u'happy hour', 758),\n",
       " (u'food great', 751),\n",
       " (u'pretty good', 746)]"
      ]
     },
     "execution_count": 15,
     "metadata": {},
     "output_type": "execute_result"
    }
   ],
   "source": [
    "pos_bi= pos_rdd.flatMap(lambda x: bi_gram(x))\n",
    "top_pos_bi = pos_bi.map(lambda x: (x,1)).reduceByKey(lambda x,y: x+y).sortBy(lambda x: x[1], ascending=False)\n",
    "top_pos_bi.collect()[0:20]"
   ]
  },
  {
   "cell_type": "code",
   "execution_count": 17,
   "metadata": {},
   "outputs": [
    {
     "data": {
      "text/plain": [
       "[(u'definitely come back', 235),\n",
       " (u'great customer service', 225),\n",
       " (u'definitely go back', 218),\n",
       " (u'wait go back', 190),\n",
       " (u'definitely coming back', 177),\n",
       " (u'highly recommend place', 167),\n",
       " (u'great food great', 163),\n",
       " (u'best ve ever', 159),\n",
       " (u'food great service', 158),\n",
       " (u'mac n cheese', 133),\n",
       " (u'service great food', 123),\n",
       " (u'next time m', 121),\n",
       " (u'back next time', 119),\n",
       " (u'love love love', 118),\n",
       " (u'definitely going back', 111),\n",
       " (u'staff always friendly', 110),\n",
       " (u'staff super friendly', 108),\n",
       " (u'sweet potato fries', 107),\n",
       " (u'wait come back', 107),\n",
       " (u'every time go', 103)]"
      ]
     },
     "execution_count": 17,
     "metadata": {},
     "output_type": "execute_result"
    }
   ],
   "source": [
    "pos_tri= pos_rdd.flatMap(lambda x: tri_gram(x))\n",
    "top_pos_tri = pos_tri.map(lambda x: (x,1)).reduceByKey(lambda x,y: x+y).sortBy(lambda x: x[1], ascending=False)\n",
    "top_pos_tri.collect()[0:20]"
   ]
  },
  {
   "cell_type": "markdown",
   "metadata": {},
   "source": [
    "## Negative Review"
   ]
  },
  {
   "cell_type": "code",
   "execution_count": 18,
   "metadata": {
    "collapsed": true
   },
   "outputs": [],
   "source": [
    "review_neg = review_neg.select(udf_num_punct('text').alias('text'))\n",
    "neg_words=pipeline.fit(review_neg).transform(review_neg).select(\"filtered\")\n",
    "neg_rdd= neg_words.rdd.map(list).map(lambda x:x[0]).cache()"
   ]
  },
  {
   "cell_type": "code",
   "execution_count": 19,
   "metadata": {},
   "outputs": [
    {
     "data": {
      "text/plain": [
       "[(u'food', 6400),\n",
       " (u'place', 5383),\n",
       " (u'get', 5241),\n",
       " (u'like', 5028),\n",
       " (u'service', 4932),\n",
       " (u'one', 4906),\n",
       " (u'back', 4788),\n",
       " (u'time', 4769),\n",
       " (u'good', 4048),\n",
       " (u'us', 3875),\n",
       " (u'go', 3698),\n",
       " (u'even', 3582),\n",
       " (u'said', 3352),\n",
       " (u'never', 3242),\n",
       " (u'didn', 3085),\n",
       " (u'got', 3065),\n",
       " (u'told', 2910),\n",
       " (u'came', 2706),\n",
       " (u'order', 2644),\n",
       " (u'really', 2558)]"
      ]
     },
     "execution_count": 19,
     "metadata": {},
     "output_type": "execute_result"
    }
   ],
   "source": [
    "neg_uni=neg_rdd.flatMap(lambda words: [w for w in words if len(w) > 0])\n",
    "top_neg_uni = neg_uni.map(lambda x: (x,1)).reduceByKey(lambda x,y: x+y).sortBy(lambda x: x[1], ascending=False)\n",
    "top_neg_uni.collect()[0:20]"
   ]
  },
  {
   "cell_type": "code",
   "execution_count": 20,
   "metadata": {},
   "outputs": [
    {
     "data": {
      "text/plain": [
       "[(u'customer service', 1084),\n",
       " (u'go back', 594),\n",
       " (u'first time', 462),\n",
       " (u'come back', 438),\n",
       " (u'even though', 355),\n",
       " (u'didn even', 336),\n",
       " (u'tasted like', 327),\n",
       " (u'came back', 298),\n",
       " (u'going back', 281),\n",
       " (u'front desk', 278),\n",
       " (u'much better', 275),\n",
       " (u'told us', 269),\n",
       " (u've ever', 267),\n",
       " (u'last time', 262),\n",
       " (u'never go', 260),\n",
       " (u'looked like', 258),\n",
       " (u'every time', 243),\n",
       " (u'las vegas', 232),\n",
       " (u'coming back', 229),\n",
       " (u'one star', 229)]"
      ]
     },
     "execution_count": 20,
     "metadata": {},
     "output_type": "execute_result"
    }
   ],
   "source": [
    "neg_bi= neg_rdd.flatMap(lambda x: bi_gram(x))\n",
    "top_neg_bi = neg_bi.map(lambda x: (x,1)).reduceByKey(lambda x,y: x+y).sortBy(lambda x: x[1], ascending=False)\n",
    "top_neg_bi.collect()[0:20]"
   ]
  },
  {
   "cell_type": "code",
   "execution_count": 21,
   "metadata": {},
   "outputs": [
    {
     "data": {
      "text/plain": [
       "[(u'never go back', 150),\n",
       " (u'worst customer service', 85),\n",
       " (u'go somewhere else', 71),\n",
       " (u'poor customer service', 69),\n",
       " (u'horrible customer service', 65),\n",
       " (u'long story short', 65),\n",
       " (u'waste time money', 58),\n",
       " (u'never going back', 52),\n",
       " (u'won going back', 52),\n",
       " (u'never come back', 48),\n",
       " (u'give zero stars', 46),\n",
       " (u'took minutes get', 45),\n",
       " (u'worst service ever', 45),\n",
       " (u'never coming back', 44),\n",
       " (u'asked speak manager', 41),\n",
       " (u'really wanted like', 41),\n",
       " (u'won go back', 40),\n",
       " (u'terrible customer service', 40),\n",
       " (u'wanted like place', 40),\n",
       " (u'customer service ever', 40)]"
      ]
     },
     "execution_count": 21,
     "metadata": {},
     "output_type": "execute_result"
    }
   ],
   "source": [
    "neg_tri= neg_rdd.flatMap(lambda x: tri_gram(x))\n",
    "top_neg_tri = neg_tri.map(lambda x: (x,1)).reduceByKey(lambda x,y: x+y).sortBy(lambda x: x[1], ascending=False)\n",
    "top_neg_tri.collect()[0:20]"
   ]
  },
  {
   "cell_type": "code",
   "execution_count": null,
   "metadata": {
    "collapsed": true
   },
   "outputs": [],
   "source": []
  }
 ],
 "metadata": {
  "kernelspec": {
   "display_name": "Python 2",
   "language": "python",
   "name": "python2"
  },
  "language_info": {
   "codemirror_mode": {
    "name": "ipython",
    "version": 2
   },
   "file_extension": ".py",
   "mimetype": "text/x-python",
   "name": "python",
   "nbconvert_exporter": "python",
   "pygments_lexer": "ipython2",
   "version": "2.7.13"
  }
 },
 "nbformat": 4,
 "nbformat_minor": 2
}
